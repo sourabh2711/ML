{
 "cells": [
  {
   "attachments": {
    "projecttt.jpg": {
     "image/jpeg": "[encoded data removed]"
    }
   },
   "cell_type": "markdown",
   "metadata": {},
   "source": [
    "# Analysing Nifty50 and Bank nifty stocks using pandas \n",
    "\n",
    "Finding the concepts and technicalities of stock market very interesting, I am choosing a dataset accordingly wherein an attempt to perform some basic data analysis of Nifty50 and Bank nifty using various features which I learnt throughout this course will be done. \n",
    "\n",
    "![projecttt.jpg](attachment:projecttt.jpg)\n",
    "\n"
   ]
  },
  {
   "cell_type": "markdown",
   "metadata": {},
   "source": [
    "# ---------------------------------------------------------------------------------------------------------------"
   ]
  },
  {
   "cell_type": "markdown",
   "metadata": {},
   "source": [
    "### How to run the code\n",
    "\n",
    "This is an executable [*Jupyter notebook*](https://jupyter.org) hosted on [Jovian.ml](https://www.jovian.ml), a platform for sharing data science projects. You can run and experiment with the code in a couple of ways: *using free online resources* (recommended) or *on your own computer*.\n",
    "\n",
    "#### Option 1: Running using free online resources (1-click, recommended)\n",
    "\n",
    "The easiest way to start executing this notebook is to click the \"Run\" button at the top of this page, and select \"Run on Binder\". This will run the notebook on [mybinder.org](https://mybinder.org), a free online service for running Jupyter notebooks. You can also select \"Run on Colab\" or \"Run on Kaggle\".\n",
    "\n",
    "\n",
    "#### Option 2: Running on your computer locally\n",
    "\n",
    "1. Install Conda by [following these instructions](https://conda.io/projects/conda/en/latest/user-guide/install/index.html). Add Conda binaries to your system `PATH`, so you can use the `conda` command on your terminal.\n",
    "\n",
    "2. Create a Conda environment and install the required libraries by running these commands on the terminal:\n",
    "\n",
    "```\n",
    "conda create -n zerotopandas -y python=3.8 \n",
    "conda activate zerotopandas\n",
    "pip install jovian jupyter numpy pandas matplotlib seaborn opendatasets --upgrade\n",
    "```\n",
    "\n",
    "3. Press the \"Clone\" button above to copy the command for downloading the notebook, and run it on the terminal. This will create a new directory and download the notebook. The command will look something like this:\n",
    "\n",
    "```\n",
    "jovian clone notebook-owner/notebook-id\n",
    "```\n",
    "\n",
    "\n",
    "\n",
    "4. Enter the newly created directory using `cd directory-name` and start the Jupyter notebook.\n",
    "\n",
    "```\n",
    "jupyter notebook\n",
    "```\n",
    "\n",
    "You can now access Jupyter's web interface by clicking the link that shows up on the terminal or by visiting http://localhost:8888 on your browser. Click on the notebook file (it has a `.ipynb` extension) to open it.\n"
   ]
  },
  {
   "cell_type": "markdown",
   "metadata": {},
   "source": [
    "# ---------------------------------------------------------------------------------------------------------------"
   ]
  },
  {
   "cell_type": "markdown",
   "metadata": {},
   "source": [
    "## Downloading the Dataset\n",
    "\n",
    "I found this dataset from kaggle.com where thousands of interesting datasets are available. I installed opendatasets before doing so as it allowed me to download the dataset directly on my Jupyter notebook."
   ]
  },
  {
   "cell_type": "code",
   "execution_count": 2,
   "metadata": {},
   "outputs": [],
   "source": [
    "!pip install jovian opendatasets --upgrade --quiet"
   ]
  },
  {
   "cell_type": "markdown",
   "metadata": {},
   "source": [
    "Let's begin by downloading the data, and listing the files within the dataset."
   ]
  },
  {
   "cell_type": "code",
   "execution_count": 3,
   "metadata": {},
   "outputs": [],
   "source": [
    "dataset_url = 'https://www.kaggle.com/ramamet4/nse-stocks-database' "
   ]
  },
  {
   "cell_type": "code",
   "execution_count": 4,
   "metadata": {},
   "outputs": [
    {
     "name": "stdout",
     "output_type": "stream",
     "text": [
      "Please provide your Kaggle credentials to download this dataset. Learn more: http://bit.ly/kaggle-creds\n",
      "Your Kaggle username: sourabhpatil2711\n",
      "Your Kaggle Key: ········\n"
     ]
    },
    {
     "name": "stderr",
     "output_type": "stream",
     "text": [
      " 62%|██████▏   | 5.00M/8.11M [00:00<00:00, 27.9MB/s]"
     ]
    },
    {
     "name": "stdout",
     "output_type": "stream",
     "text": [
      "Downloading nse-stocks-database.zip to ./nse-stocks-database\n"
     ]
    },
    {
     "name": "stderr",
     "output_type": "stream",
     "text": [
      "100%|██████████| 8.11M/8.11M [00:00<00:00, 36.2MB/s]\n"
     ]
    },
    {
     "name": "stdout",
     "output_type": "stream",
     "text": [
      "\n"
     ]
    }
   ],
   "source": [
    "import opendatasets as od\n",
    "od.download(dataset_url)"
   ]
  },
  {
   "cell_type": "markdown",
   "metadata": {},
   "source": [
    "The dataset has been downloaded and extracted."
   ]
  },
  {
   "cell_type": "code",
   "execution_count": 5,
   "metadata": {},
   "outputs": [],
   "source": [
    "data_dir = './nse-stocks-database'"
   ]
  },
  {
   "cell_type": "code",
   "execution_count": 6,
   "metadata": {},
   "outputs": [
    {
     "data": {
      "text/plain": [
       "['nifty50.csv', 'banknifty.csv']"
      ]
     },
     "execution_count": 6,
     "metadata": {},
     "output_type": "execute_result"
    }
   ],
   "source": [
    "import os\n",
    "os.listdir(data_dir)"
   ]
  },
  {
   "cell_type": "markdown",
   "metadata": {},
   "source": [
    "Let us save and upload our work to Jovian before continuing."
   ]
  },
  {
   "cell_type": "code",
   "execution_count": 7,
   "metadata": {},
   "outputs": [],
   "source": [
    "project_name = \"Analysing stocks in NSE stock exchange\" "
   ]
  },
  {
   "cell_type": "code",
   "execution_count": 8,
   "metadata": {},
   "outputs": [],
   "source": [
    "!pip install jovian --upgrade -q"
   ]
  },
  {
   "cell_type": "code",
   "execution_count": 9,
   "metadata": {},
   "outputs": [],
   "source": [
    "import jovian"
   ]
  },
  {
   "cell_type": "code",
   "execution_count": 10,
   "metadata": {},
   "outputs": [
    {
     "data": {
      "application/javascript": [
       "window.require && require([\"base/js/namespace\"],function(Jupyter){Jupyter.notebook.save_checkpoint()})"
      ],
      "text/plain": [
       "<IPython.core.display.Javascript object>"
      ]
     },
     "metadata": {},
     "output_type": "display_data"
    },
    {
     "name": "stdout",
     "output_type": "stream",
     "text": [
      "[jovian] Updating notebook \"f20201673/analysing-stocks-in-nse-stock-exchange\" on https://jovian.ai\u001b[0m\n",
      "[jovian] Committed successfully! https://jovian.ai/f20201673/analysing-stocks-in-nse-stock-exchange\u001b[0m\n"
     ]
    },
    {
     "data": {
      "text/plain": [
       "'https://jovian.ai/f20201673/analysing-stocks-in-nse-stock-exchange'"
      ]
     },
     "execution_count": 10,
     "metadata": {},
     "output_type": "execute_result"
    }
   ],
   "source": [
    "jovian.commit(project=project_name)"
   ]
  },
  {
   "cell_type": "markdown",
   "metadata": {},
   "source": [
    "# ---------------------------------------------------------------------------------------------------------------"
   ]
  },
  {
   "cell_type": "markdown",
   "metadata": {},
   "source": [
    "## Data Preparation and Cleaning\n",
    "\n",
    "Let's load the dataset using pandas to explore different things about this particular dataset. \n",
    "Initially lets see some features of these datasets like datatypes involved, memory used, rows and columns present, mean of the respective columns (opening, higs, lows, closings), std. deviation, etc. and also lets add some relevant columns to get more insights. In order to get a breif overview of these both datasets, lets merge them and check out the result.\n",
    "\n"
   ]
  },
  {
   "cell_type": "code",
   "execution_count": 11,
   "metadata": {},
   "outputs": [],
   "source": [
    "import pandas as pd"
   ]
  },
  {
   "cell_type": "code",
   "execution_count": 12,
   "metadata": {},
   "outputs": [],
   "source": [
    "nifty50_dir = pd.read_csv(data_dir + \"/nifty50.csv\")"
   ]
  },
  {
   "cell_type": "code",
   "execution_count": 13,
   "metadata": {},
   "outputs": [],
   "source": [
    "banknifty_dir = pd.read_csv(data_dir + \"/banknifty.csv\")"
   ]
  },
  {
   "cell_type": "code",
   "execution_count": 14,
   "metadata": {},
   "outputs": [
    {
     "data": {
      "text/html": [
       "<div>\n",
       "<style scoped>\n",
       "    .dataframe tbody tr th:only-of-type {\n",
       "        vertical-align: middle;\n",
       "    }\n",
       "\n",
       "    .dataframe tbody tr th {\n",
       "        vertical-align: top;\n",
       "    }\n",
       "\n",
       "    .dataframe thead th {\n",
       "        text-align: right;\n",
       "    }\n",
       "</style>\n",
       "<table border=\"1\" class=\"dataframe\">\n",
       "  <thead>\n",
       "    <tr style=\"text-align: right;\">\n",
       "      <th></th>\n",
       "      <th>index</th>\n",
       "      <th>date</th>\n",
       "      <th>time</th>\n",
       "      <th>open</th>\n",
       "      <th>high</th>\n",
       "      <th>low</th>\n",
       "      <th>close</th>\n",
       "    </tr>\n",
       "  </thead>\n",
       "  <tbody>\n",
       "    <tr>\n",
       "      <th>0</th>\n",
       "      <td>NIFTY</td>\n",
       "      <td>20130401</td>\n",
       "      <td>09:16</td>\n",
       "      <td>5701.15</td>\n",
       "      <td>5704.65</td>\n",
       "      <td>5694.30</td>\n",
       "      <td>5697.00</td>\n",
       "    </tr>\n",
       "    <tr>\n",
       "      <th>1</th>\n",
       "      <td>NIFTY</td>\n",
       "      <td>20130401</td>\n",
       "      <td>09:17</td>\n",
       "      <td>5697.05</td>\n",
       "      <td>5698.35</td>\n",
       "      <td>5695.65</td>\n",
       "      <td>5697.50</td>\n",
       "    </tr>\n",
       "    <tr>\n",
       "      <th>2</th>\n",
       "      <td>NIFTY</td>\n",
       "      <td>20130401</td>\n",
       "      <td>09:18</td>\n",
       "      <td>5697.90</td>\n",
       "      <td>5697.90</td>\n",
       "      <td>5690.60</td>\n",
       "      <td>5692.15</td>\n",
       "    </tr>\n",
       "    <tr>\n",
       "      <th>3</th>\n",
       "      <td>NIFTY</td>\n",
       "      <td>20130401</td>\n",
       "      <td>09:19</td>\n",
       "      <td>5691.65</td>\n",
       "      <td>5694.70</td>\n",
       "      <td>5691.65</td>\n",
       "      <td>5693.90</td>\n",
       "    </tr>\n",
       "    <tr>\n",
       "      <th>4</th>\n",
       "      <td>NIFTY</td>\n",
       "      <td>20130401</td>\n",
       "      <td>09:20</td>\n",
       "      <td>5694.40</td>\n",
       "      <td>5695.05</td>\n",
       "      <td>5693.35</td>\n",
       "      <td>5694.55</td>\n",
       "    </tr>\n",
       "    <tr>\n",
       "      <th>...</th>\n",
       "      <td>...</td>\n",
       "      <td>...</td>\n",
       "      <td>...</td>\n",
       "      <td>...</td>\n",
       "      <td>...</td>\n",
       "      <td>...</td>\n",
       "      <td>...</td>\n",
       "    </tr>\n",
       "    <tr>\n",
       "      <th>352915</th>\n",
       "      <td>NIFTY</td>\n",
       "      <td>20160930</td>\n",
       "      <td>15:26</td>\n",
       "      <td>8618.00</td>\n",
       "      <td>8619.85</td>\n",
       "      <td>8617.65</td>\n",
       "      <td>8618.50</td>\n",
       "    </tr>\n",
       "    <tr>\n",
       "      <th>352916</th>\n",
       "      <td>NIFTY</td>\n",
       "      <td>20160930</td>\n",
       "      <td>15:27</td>\n",
       "      <td>8618.45</td>\n",
       "      <td>8618.95</td>\n",
       "      <td>8617.25</td>\n",
       "      <td>8617.25</td>\n",
       "    </tr>\n",
       "    <tr>\n",
       "      <th>352917</th>\n",
       "      <td>NIFTY</td>\n",
       "      <td>20160930</td>\n",
       "      <td>15:28</td>\n",
       "      <td>8617.20</td>\n",
       "      <td>8618.65</td>\n",
       "      <td>8616.85</td>\n",
       "      <td>8617.50</td>\n",
       "    </tr>\n",
       "    <tr>\n",
       "      <th>352918</th>\n",
       "      <td>NIFTY</td>\n",
       "      <td>20160930</td>\n",
       "      <td>15:29</td>\n",
       "      <td>8617.40</td>\n",
       "      <td>8618.80</td>\n",
       "      <td>8615.60</td>\n",
       "      <td>8616.65</td>\n",
       "    </tr>\n",
       "    <tr>\n",
       "      <th>352919</th>\n",
       "      <td>NIFTY</td>\n",
       "      <td>20160930</td>\n",
       "      <td>15:30</td>\n",
       "      <td>8615.30</td>\n",
       "      <td>8622.75</td>\n",
       "      <td>8615.30</td>\n",
       "      <td>8620.95</td>\n",
       "    </tr>\n",
       "  </tbody>\n",
       "</table>\n",
       "<p>352920 rows × 7 columns</p>\n",
       "</div>"
      ],
      "text/plain": [
       "        index      date   time     open     high      low    close\n",
       "0       NIFTY  20130401  09:16  5701.15  5704.65  5694.30  5697.00\n",
       "1       NIFTY  20130401  09:17  5697.05  5698.35  5695.65  5697.50\n",
       "2       NIFTY  20130401  09:18  5697.90  5697.90  5690.60  5692.15\n",
       "3       NIFTY  20130401  09:19  5691.65  5694.70  5691.65  5693.90\n",
       "4       NIFTY  20130401  09:20  5694.40  5695.05  5693.35  5694.55\n",
       "...       ...       ...    ...      ...      ...      ...      ...\n",
       "352915  NIFTY  20160930  15:26  8618.00  8619.85  8617.65  8618.50\n",
       "352916  NIFTY  20160930  15:27  8618.45  8618.95  8617.25  8617.25\n",
       "352917  NIFTY  20160930  15:28  8617.20  8618.65  8616.85  8617.50\n",
       "352918  NIFTY  20160930  15:29  8617.40  8618.80  8615.60  8616.65\n",
       "352919  NIFTY  20160930  15:30  8615.30  8622.75  8615.30  8620.95\n",
       "\n",
       "[352920 rows x 7 columns]"
      ]
     },
     "execution_count": 14,
     "metadata": {},
     "output_type": "execute_result"
    }
   ],
   "source": [
    "nifty50_dir"
   ]
  },
  {
   "cell_type": "code",
   "execution_count": 15,
   "metadata": {},
   "outputs": [
    {
     "data": {
      "text/html": [
       "<div>\n",
       "<style scoped>\n",
       "    .dataframe tbody tr th:only-of-type {\n",
       "        vertical-align: middle;\n",
       "    }\n",
       "\n",
       "    .dataframe tbody tr th {\n",
       "        vertical-align: top;\n",
       "    }\n",
       "\n",
       "    .dataframe thead th {\n",
       "        text-align: right;\n",
       "    }\n",
       "</style>\n",
       "<table border=\"1\" class=\"dataframe\">\n",
       "  <thead>\n",
       "    <tr style=\"text-align: right;\">\n",
       "      <th></th>\n",
       "      <th>index</th>\n",
       "      <th>date</th>\n",
       "      <th>time</th>\n",
       "      <th>open</th>\n",
       "      <th>high</th>\n",
       "      <th>low</th>\n",
       "      <th>close</th>\n",
       "    </tr>\n",
       "  </thead>\n",
       "  <tbody>\n",
       "    <tr>\n",
       "      <th>0</th>\n",
       "      <td>BANKNIFTY</td>\n",
       "      <td>20121203</td>\n",
       "      <td>09:16</td>\n",
       "      <td>12125.70</td>\n",
       "      <td>12161.70</td>\n",
       "      <td>12125.70</td>\n",
       "      <td>12160.95</td>\n",
       "    </tr>\n",
       "    <tr>\n",
       "      <th>1</th>\n",
       "      <td>BANKNIFTY</td>\n",
       "      <td>20121203</td>\n",
       "      <td>09:17</td>\n",
       "      <td>12161.75</td>\n",
       "      <td>12164.80</td>\n",
       "      <td>12130.40</td>\n",
       "      <td>12130.40</td>\n",
       "    </tr>\n",
       "    <tr>\n",
       "      <th>2</th>\n",
       "      <td>BANKNIFTY</td>\n",
       "      <td>20121203</td>\n",
       "      <td>09:18</td>\n",
       "      <td>12126.85</td>\n",
       "      <td>12156.10</td>\n",
       "      <td>12126.85</td>\n",
       "      <td>12156.10</td>\n",
       "    </tr>\n",
       "    <tr>\n",
       "      <th>3</th>\n",
       "      <td>BANKNIFTY</td>\n",
       "      <td>20121203</td>\n",
       "      <td>09:19</td>\n",
       "      <td>12157.25</td>\n",
       "      <td>12164.75</td>\n",
       "      <td>12151.60</td>\n",
       "      <td>12164.20</td>\n",
       "    </tr>\n",
       "    <tr>\n",
       "      <th>4</th>\n",
       "      <td>BANKNIFTY</td>\n",
       "      <td>20121203</td>\n",
       "      <td>09:20</td>\n",
       "      <td>12162.80</td>\n",
       "      <td>12162.80</td>\n",
       "      <td>12148.20</td>\n",
       "      <td>12151.15</td>\n",
       "    </tr>\n",
       "    <tr>\n",
       "      <th>...</th>\n",
       "      <td>...</td>\n",
       "      <td>...</td>\n",
       "      <td>...</td>\n",
       "      <td>...</td>\n",
       "      <td>...</td>\n",
       "      <td>...</td>\n",
       "      <td>...</td>\n",
       "    </tr>\n",
       "    <tr>\n",
       "      <th>367570</th>\n",
       "      <td>BANKNIFTY</td>\n",
       "      <td>20160930</td>\n",
       "      <td>15:26</td>\n",
       "      <td>19321.00</td>\n",
       "      <td>19322.80</td>\n",
       "      <td>19314.25</td>\n",
       "      <td>19318.35</td>\n",
       "    </tr>\n",
       "    <tr>\n",
       "      <th>367571</th>\n",
       "      <td>BANKNIFTY</td>\n",
       "      <td>20160930</td>\n",
       "      <td>15:27</td>\n",
       "      <td>19318.80</td>\n",
       "      <td>19322.20</td>\n",
       "      <td>19312.30</td>\n",
       "      <td>19317.40</td>\n",
       "    </tr>\n",
       "    <tr>\n",
       "      <th>367572</th>\n",
       "      <td>BANKNIFTY</td>\n",
       "      <td>20160930</td>\n",
       "      <td>15:28</td>\n",
       "      <td>19317.55</td>\n",
       "      <td>19323.40</td>\n",
       "      <td>19314.45</td>\n",
       "      <td>19315.95</td>\n",
       "    </tr>\n",
       "    <tr>\n",
       "      <th>367573</th>\n",
       "      <td>BANKNIFTY</td>\n",
       "      <td>20160930</td>\n",
       "      <td>15:29</td>\n",
       "      <td>19315.80</td>\n",
       "      <td>19324.20</td>\n",
       "      <td>19312.00</td>\n",
       "      <td>19314.10</td>\n",
       "    </tr>\n",
       "    <tr>\n",
       "      <th>367574</th>\n",
       "      <td>BANKNIFTY</td>\n",
       "      <td>20160930</td>\n",
       "      <td>15:30</td>\n",
       "      <td>19313.60</td>\n",
       "      <td>19330.85</td>\n",
       "      <td>19311.20</td>\n",
       "      <td>19323.20</td>\n",
       "    </tr>\n",
       "  </tbody>\n",
       "</table>\n",
       "<p>367575 rows × 7 columns</p>\n",
       "</div>"
      ],
      "text/plain": [
       "            index      date   time      open      high       low     close\n",
       "0       BANKNIFTY  20121203  09:16  12125.70  12161.70  12125.70  12160.95\n",
       "1       BANKNIFTY  20121203  09:17  12161.75  12164.80  12130.40  12130.40\n",
       "2       BANKNIFTY  20121203  09:18  12126.85  12156.10  12126.85  12156.10\n",
       "3       BANKNIFTY  20121203  09:19  12157.25  12164.75  12151.60  12164.20\n",
       "4       BANKNIFTY  20121203  09:20  12162.80  12162.80  12148.20  12151.15\n",
       "...           ...       ...    ...       ...       ...       ...       ...\n",
       "367570  BANKNIFTY  20160930  15:26  19321.00  19322.80  19314.25  19318.35\n",
       "367571  BANKNIFTY  20160930  15:27  19318.80  19322.20  19312.30  19317.40\n",
       "367572  BANKNIFTY  20160930  15:28  19317.55  19323.40  19314.45  19315.95\n",
       "367573  BANKNIFTY  20160930  15:29  19315.80  19324.20  19312.00  19314.10\n",
       "367574  BANKNIFTY  20160930  15:30  19313.60  19330.85  19311.20  19323.20\n",
       "\n",
       "[367575 rows x 7 columns]"
      ]
     },
     "execution_count": 15,
     "metadata": {},
     "output_type": "execute_result"
    }
   ],
   "source": [
    "banknifty_dir"
   ]
  },
  {
   "cell_type": "code",
   "execution_count": 16,
   "metadata": {},
   "outputs": [
    {
     "name": "stdout",
     "output_type": "stream",
     "text": [
      "<class 'pandas.core.frame.DataFrame'>\n",
      "RangeIndex: 352920 entries, 0 to 352919\n",
      "Data columns (total 7 columns):\n",
      " #   Column  Non-Null Count   Dtype  \n",
      "---  ------  --------------   -----  \n",
      " 0   index   352920 non-null  object \n",
      " 1   date    352920 non-null  int64  \n",
      " 2   time    352920 non-null  object \n",
      " 3   open    352920 non-null  float64\n",
      " 4   high    352920 non-null  float64\n",
      " 5   low     352920 non-null  float64\n",
      " 6   close   352920 non-null  float64\n",
      "dtypes: float64(4), int64(1), object(2)\n",
      "memory usage: 18.8+ MB\n"
     ]
    }
   ],
   "source": [
    "nifty50_dir.info()"
   ]
  },
  {
   "cell_type": "code",
   "execution_count": 17,
   "metadata": {},
   "outputs": [
    {
     "name": "stdout",
     "output_type": "stream",
     "text": [
      "<class 'pandas.core.frame.DataFrame'>\n",
      "RangeIndex: 367575 entries, 0 to 367574\n",
      "Data columns (total 7 columns):\n",
      " #   Column  Non-Null Count   Dtype  \n",
      "---  ------  --------------   -----  \n",
      " 0   index   367575 non-null  object \n",
      " 1   date    367575 non-null  int64  \n",
      " 2   time    367575 non-null  object \n",
      " 3   open    367575 non-null  float64\n",
      " 4   high    367575 non-null  float64\n",
      " 5   low     367575 non-null  float64\n",
      " 6   close   367575 non-null  float64\n",
      "dtypes: float64(4), int64(1), object(2)\n",
      "memory usage: 19.6+ MB\n"
     ]
    }
   ],
   "source": [
    "banknifty_dir.info()"
   ]
  },
  {
   "cell_type": "code",
   "execution_count": 18,
   "metadata": {},
   "outputs": [
    {
     "data": {
      "text/html": [
       "<div>\n",
       "<style scoped>\n",
       "    .dataframe tbody tr th:only-of-type {\n",
       "        vertical-align: middle;\n",
       "    }\n",
       "\n",
       "    .dataframe tbody tr th {\n",
       "        vertical-align: top;\n",
       "    }\n",
       "\n",
       "    .dataframe thead th {\n",
       "        text-align: right;\n",
       "    }\n",
       "</style>\n",
       "<table border=\"1\" class=\"dataframe\">\n",
       "  <thead>\n",
       "    <tr style=\"text-align: right;\">\n",
       "      <th></th>\n",
       "      <th>date</th>\n",
       "      <th>open</th>\n",
       "      <th>high</th>\n",
       "      <th>low</th>\n",
       "      <th>close</th>\n",
       "    </tr>\n",
       "  </thead>\n",
       "  <tbody>\n",
       "    <tr>\n",
       "      <th>count</th>\n",
       "      <td>3.529200e+05</td>\n",
       "      <td>352920.000000</td>\n",
       "      <td>352920.000000</td>\n",
       "      <td>352920.000000</td>\n",
       "      <td>352920.000000</td>\n",
       "    </tr>\n",
       "    <tr>\n",
       "      <th>mean</th>\n",
       "      <td>2.014495e+07</td>\n",
       "      <td>7374.515649</td>\n",
       "      <td>7376.077510</td>\n",
       "      <td>7372.936147</td>\n",
       "      <td>7374.498883</td>\n",
       "    </tr>\n",
       "    <tr>\n",
       "      <th>std</th>\n",
       "      <td>1.094640e+04</td>\n",
       "      <td>1070.893139</td>\n",
       "      <td>1071.032665</td>\n",
       "      <td>1070.756739</td>\n",
       "      <td>1070.885970</td>\n",
       "    </tr>\n",
       "    <tr>\n",
       "      <th>min</th>\n",
       "      <td>2.013010e+07</td>\n",
       "      <td>5126.150000</td>\n",
       "      <td>5127.250000</td>\n",
       "      <td>5118.850000</td>\n",
       "      <td>5126.300000</td>\n",
       "    </tr>\n",
       "    <tr>\n",
       "      <th>25%</th>\n",
       "      <td>2.013121e+07</td>\n",
       "      <td>6167.650000</td>\n",
       "      <td>6168.900000</td>\n",
       "      <td>6166.550000</td>\n",
       "      <td>6167.700000</td>\n",
       "    </tr>\n",
       "    <tr>\n",
       "      <th>50%</th>\n",
       "      <td>2.014120e+07</td>\n",
       "      <td>7738.800000</td>\n",
       "      <td>7740.150000</td>\n",
       "      <td>7737.450000</td>\n",
       "      <td>7738.800000</td>\n",
       "    </tr>\n",
       "    <tr>\n",
       "      <th>75%</th>\n",
       "      <td>2.015112e+07</td>\n",
       "      <td>8298.762500</td>\n",
       "      <td>8300.900000</td>\n",
       "      <td>8297.050000</td>\n",
       "      <td>8298.750000</td>\n",
       "    </tr>\n",
       "    <tr>\n",
       "      <th>max</th>\n",
       "      <td>2.016093e+07</td>\n",
       "      <td>9115.400000</td>\n",
       "      <td>9119.200000</td>\n",
       "      <td>9105.650000</td>\n",
       "      <td>9106.500000</td>\n",
       "    </tr>\n",
       "  </tbody>\n",
       "</table>\n",
       "</div>"
      ],
      "text/plain": [
       "               date           open           high            low  \\\n",
       "count  3.529200e+05  352920.000000  352920.000000  352920.000000   \n",
       "mean   2.014495e+07    7374.515649    7376.077510    7372.936147   \n",
       "std    1.094640e+04    1070.893139    1071.032665    1070.756739   \n",
       "min    2.013010e+07    5126.150000    5127.250000    5118.850000   \n",
       "25%    2.013121e+07    6167.650000    6168.900000    6166.550000   \n",
       "50%    2.014120e+07    7738.800000    7740.150000    7737.450000   \n",
       "75%    2.015112e+07    8298.762500    8300.900000    8297.050000   \n",
       "max    2.016093e+07    9115.400000    9119.200000    9105.650000   \n",
       "\n",
       "               close  \n",
       "count  352920.000000  \n",
       "mean     7374.498883  \n",
       "std      1070.885970  \n",
       "min      5126.300000  \n",
       "25%      6167.700000  \n",
       "50%      7738.800000  \n",
       "75%      8298.750000  \n",
       "max      9106.500000  "
      ]
     },
     "execution_count": 18,
     "metadata": {},
     "output_type": "execute_result"
    }
   ],
   "source": [
    "nifty50_dir.describe()"
   ]
  },
  {
   "cell_type": "code",
   "execution_count": 19,
   "metadata": {},
   "outputs": [
    {
     "data": {
      "text/html": [
       "<div>\n",
       "<style scoped>\n",
       "    .dataframe tbody tr th:only-of-type {\n",
       "        vertical-align: middle;\n",
       "    }\n",
       "\n",
       "    .dataframe tbody tr th {\n",
       "        vertical-align: top;\n",
       "    }\n",
       "\n",
       "    .dataframe thead th {\n",
       "        text-align: right;\n",
       "    }\n",
       "</style>\n",
       "<table border=\"1\" class=\"dataframe\">\n",
       "  <thead>\n",
       "    <tr style=\"text-align: right;\">\n",
       "      <th></th>\n",
       "      <th>date</th>\n",
       "      <th>open</th>\n",
       "      <th>high</th>\n",
       "      <th>low</th>\n",
       "      <th>close</th>\n",
       "    </tr>\n",
       "  </thead>\n",
       "  <tbody>\n",
       "    <tr>\n",
       "      <th>count</th>\n",
       "      <td>3.675750e+05</td>\n",
       "      <td>367575.000000</td>\n",
       "      <td>367575.000000</td>\n",
       "      <td>367575.000000</td>\n",
       "      <td>367575.000000</td>\n",
       "    </tr>\n",
       "    <tr>\n",
       "      <th>mean</th>\n",
       "      <td>2.014401e+07</td>\n",
       "      <td>15078.023296</td>\n",
       "      <td>15082.498465</td>\n",
       "      <td>15073.480983</td>\n",
       "      <td>15077.993028</td>\n",
       "    </tr>\n",
       "    <tr>\n",
       "      <th>std</th>\n",
       "      <td>1.169302e+04</td>\n",
       "      <td>3184.438089</td>\n",
       "      <td>3185.213591</td>\n",
       "      <td>3183.628315</td>\n",
       "      <td>3184.411825</td>\n",
       "    </tr>\n",
       "    <tr>\n",
       "      <th>min</th>\n",
       "      <td>2.012110e+07</td>\n",
       "      <td>1405.050000</td>\n",
       "      <td>1407.050000</td>\n",
       "      <td>1404.600000</td>\n",
       "      <td>1405.200000</td>\n",
       "    </tr>\n",
       "    <tr>\n",
       "      <th>25%</th>\n",
       "      <td>2.013103e+07</td>\n",
       "      <td>12092.200000</td>\n",
       "      <td>12095.000000</td>\n",
       "      <td>12089.150000</td>\n",
       "      <td>12092.175000</td>\n",
       "    </tr>\n",
       "    <tr>\n",
       "      <th>50%</th>\n",
       "      <td>2.014110e+07</td>\n",
       "      <td>15526.100000</td>\n",
       "      <td>15531.200000</td>\n",
       "      <td>15521.400000</td>\n",
       "      <td>15525.950000</td>\n",
       "    </tr>\n",
       "    <tr>\n",
       "      <th>75%</th>\n",
       "      <td>2.015103e+07</td>\n",
       "      <td>17956.050000</td>\n",
       "      <td>17960.550000</td>\n",
       "      <td>17951.100000</td>\n",
       "      <td>17955.800000</td>\n",
       "    </tr>\n",
       "    <tr>\n",
       "      <th>max</th>\n",
       "      <td>2.016093e+07</td>\n",
       "      <td>20903.950000</td>\n",
       "      <td>20907.550000</td>\n",
       "      <td>20899.250000</td>\n",
       "      <td>20907.550000</td>\n",
       "    </tr>\n",
       "  </tbody>\n",
       "</table>\n",
       "</div>"
      ],
      "text/plain": [
       "               date           open           high            low  \\\n",
       "count  3.675750e+05  367575.000000  367575.000000  367575.000000   \n",
       "mean   2.014401e+07   15078.023296   15082.498465   15073.480983   \n",
       "std    1.169302e+04    3184.438089    3185.213591    3183.628315   \n",
       "min    2.012110e+07    1405.050000    1407.050000    1404.600000   \n",
       "25%    2.013103e+07   12092.200000   12095.000000   12089.150000   \n",
       "50%    2.014110e+07   15526.100000   15531.200000   15521.400000   \n",
       "75%    2.015103e+07   17956.050000   17960.550000   17951.100000   \n",
       "max    2.016093e+07   20903.950000   20907.550000   20899.250000   \n",
       "\n",
       "               close  \n",
       "count  367575.000000  \n",
       "mean    15077.993028  \n",
       "std      3184.411825  \n",
       "min      1405.200000  \n",
       "25%     12092.175000  \n",
       "50%     15525.950000  \n",
       "75%     17955.800000  \n",
       "max     20907.550000  "
      ]
     },
     "execution_count": 19,
     "metadata": {},
     "output_type": "execute_result"
    }
   ],
   "source": [
    "banknifty_dir.describe()"
   ]
  },
  {
   "cell_type": "code",
   "execution_count": 20,
   "metadata": {},
   "outputs": [],
   "source": [
    "nifty50_dir['range'] = nifty50_dir.high - nifty50_dir.low"
   ]
  },
  {
   "cell_type": "code",
   "execution_count": 21,
   "metadata": {},
   "outputs": [],
   "source": [
    "banknifty_dir['range'] = banknifty_dir.high - banknifty_dir.low"
   ]
  },
  {
   "cell_type": "code",
   "execution_count": 22,
   "metadata": {},
   "outputs": [
    {
     "data": {
      "text/html": [
       "<div>\n",
       "<style scoped>\n",
       "    .dataframe tbody tr th:only-of-type {\n",
       "        vertical-align: middle;\n",
       "    }\n",
       "\n",
       "    .dataframe tbody tr th {\n",
       "        vertical-align: top;\n",
       "    }\n",
       "\n",
       "    .dataframe thead th {\n",
       "        text-align: right;\n",
       "    }\n",
       "</style>\n",
       "<table border=\"1\" class=\"dataframe\">\n",
       "  <thead>\n",
       "    <tr style=\"text-align: right;\">\n",
       "      <th></th>\n",
       "      <th>index</th>\n",
       "      <th>date</th>\n",
       "      <th>time</th>\n",
       "      <th>open</th>\n",
       "      <th>high</th>\n",
       "      <th>low</th>\n",
       "      <th>close</th>\n",
       "      <th>range</th>\n",
       "    </tr>\n",
       "  </thead>\n",
       "  <tbody>\n",
       "    <tr>\n",
       "      <th>0</th>\n",
       "      <td>NIFTY</td>\n",
       "      <td>20130401</td>\n",
       "      <td>09:16</td>\n",
       "      <td>5701.15</td>\n",
       "      <td>5704.65</td>\n",
       "      <td>5694.30</td>\n",
       "      <td>5697.00</td>\n",
       "      <td>10.35</td>\n",
       "    </tr>\n",
       "    <tr>\n",
       "      <th>1</th>\n",
       "      <td>NIFTY</td>\n",
       "      <td>20130401</td>\n",
       "      <td>09:17</td>\n",
       "      <td>5697.05</td>\n",
       "      <td>5698.35</td>\n",
       "      <td>5695.65</td>\n",
       "      <td>5697.50</td>\n",
       "      <td>2.70</td>\n",
       "    </tr>\n",
       "    <tr>\n",
       "      <th>2</th>\n",
       "      <td>NIFTY</td>\n",
       "      <td>20130401</td>\n",
       "      <td>09:18</td>\n",
       "      <td>5697.90</td>\n",
       "      <td>5697.90</td>\n",
       "      <td>5690.60</td>\n",
       "      <td>5692.15</td>\n",
       "      <td>7.30</td>\n",
       "    </tr>\n",
       "    <tr>\n",
       "      <th>3</th>\n",
       "      <td>NIFTY</td>\n",
       "      <td>20130401</td>\n",
       "      <td>09:19</td>\n",
       "      <td>5691.65</td>\n",
       "      <td>5694.70</td>\n",
       "      <td>5691.65</td>\n",
       "      <td>5693.90</td>\n",
       "      <td>3.05</td>\n",
       "    </tr>\n",
       "    <tr>\n",
       "      <th>4</th>\n",
       "      <td>NIFTY</td>\n",
       "      <td>20130401</td>\n",
       "      <td>09:20</td>\n",
       "      <td>5694.40</td>\n",
       "      <td>5695.05</td>\n",
       "      <td>5693.35</td>\n",
       "      <td>5694.55</td>\n",
       "      <td>1.70</td>\n",
       "    </tr>\n",
       "    <tr>\n",
       "      <th>...</th>\n",
       "      <td>...</td>\n",
       "      <td>...</td>\n",
       "      <td>...</td>\n",
       "      <td>...</td>\n",
       "      <td>...</td>\n",
       "      <td>...</td>\n",
       "      <td>...</td>\n",
       "      <td>...</td>\n",
       "    </tr>\n",
       "    <tr>\n",
       "      <th>352915</th>\n",
       "      <td>NIFTY</td>\n",
       "      <td>20160930</td>\n",
       "      <td>15:26</td>\n",
       "      <td>8618.00</td>\n",
       "      <td>8619.85</td>\n",
       "      <td>8617.65</td>\n",
       "      <td>8618.50</td>\n",
       "      <td>2.20</td>\n",
       "    </tr>\n",
       "    <tr>\n",
       "      <th>352916</th>\n",
       "      <td>NIFTY</td>\n",
       "      <td>20160930</td>\n",
       "      <td>15:27</td>\n",
       "      <td>8618.45</td>\n",
       "      <td>8618.95</td>\n",
       "      <td>8617.25</td>\n",
       "      <td>8617.25</td>\n",
       "      <td>1.70</td>\n",
       "    </tr>\n",
       "    <tr>\n",
       "      <th>352917</th>\n",
       "      <td>NIFTY</td>\n",
       "      <td>20160930</td>\n",
       "      <td>15:28</td>\n",
       "      <td>8617.20</td>\n",
       "      <td>8618.65</td>\n",
       "      <td>8616.85</td>\n",
       "      <td>8617.50</td>\n",
       "      <td>1.80</td>\n",
       "    </tr>\n",
       "    <tr>\n",
       "      <th>352918</th>\n",
       "      <td>NIFTY</td>\n",
       "      <td>20160930</td>\n",
       "      <td>15:29</td>\n",
       "      <td>8617.40</td>\n",
       "      <td>8618.80</td>\n",
       "      <td>8615.60</td>\n",
       "      <td>8616.65</td>\n",
       "      <td>3.20</td>\n",
       "    </tr>\n",
       "    <tr>\n",
       "      <th>352919</th>\n",
       "      <td>NIFTY</td>\n",
       "      <td>20160930</td>\n",
       "      <td>15:30</td>\n",
       "      <td>8615.30</td>\n",
       "      <td>8622.75</td>\n",
       "      <td>8615.30</td>\n",
       "      <td>8620.95</td>\n",
       "      <td>7.45</td>\n",
       "    </tr>\n",
       "  </tbody>\n",
       "</table>\n",
       "<p>352920 rows × 8 columns</p>\n",
       "</div>"
      ],
      "text/plain": [
       "        index      date   time     open     high      low    close  range\n",
       "0       NIFTY  20130401  09:16  5701.15  5704.65  5694.30  5697.00  10.35\n",
       "1       NIFTY  20130401  09:17  5697.05  5698.35  5695.65  5697.50   2.70\n",
       "2       NIFTY  20130401  09:18  5697.90  5697.90  5690.60  5692.15   7.30\n",
       "3       NIFTY  20130401  09:19  5691.65  5694.70  5691.65  5693.90   3.05\n",
       "4       NIFTY  20130401  09:20  5694.40  5695.05  5693.35  5694.55   1.70\n",
       "...       ...       ...    ...      ...      ...      ...      ...    ...\n",
       "352915  NIFTY  20160930  15:26  8618.00  8619.85  8617.65  8618.50   2.20\n",
       "352916  NIFTY  20160930  15:27  8618.45  8618.95  8617.25  8617.25   1.70\n",
       "352917  NIFTY  20160930  15:28  8617.20  8618.65  8616.85  8617.50   1.80\n",
       "352918  NIFTY  20160930  15:29  8617.40  8618.80  8615.60  8616.65   3.20\n",
       "352919  NIFTY  20160930  15:30  8615.30  8622.75  8615.30  8620.95   7.45\n",
       "\n",
       "[352920 rows x 8 columns]"
      ]
     },
     "execution_count": 22,
     "metadata": {},
     "output_type": "execute_result"
    }
   ],
   "source": [
    "nifty50_dir"
   ]
  },
  {
   "cell_type": "code",
   "execution_count": 23,
   "metadata": {},
   "outputs": [
    {
     "data": {
      "text/html": [
       "<div>\n",
       "<style scoped>\n",
       "    .dataframe tbody tr th:only-of-type {\n",
       "        vertical-align: middle;\n",
       "    }\n",
       "\n",
       "    .dataframe tbody tr th {\n",
       "        vertical-align: top;\n",
       "    }\n",
       "\n",
       "    .dataframe thead th {\n",
       "        text-align: right;\n",
       "    }\n",
       "</style>\n",
       "<table border=\"1\" class=\"dataframe\">\n",
       "  <thead>\n",
       "    <tr style=\"text-align: right;\">\n",
       "      <th></th>\n",
       "      <th>index</th>\n",
       "      <th>date</th>\n",
       "      <th>time</th>\n",
       "      <th>open</th>\n",
       "      <th>high</th>\n",
       "      <th>low</th>\n",
       "      <th>close</th>\n",
       "      <th>range</th>\n",
       "    </tr>\n",
       "  </thead>\n",
       "  <tbody>\n",
       "    <tr>\n",
       "      <th>0</th>\n",
       "      <td>BANKNIFTY</td>\n",
       "      <td>20121203</td>\n",
       "      <td>09:16</td>\n",
       "      <td>12125.70</td>\n",
       "      <td>12161.70</td>\n",
       "      <td>12125.70</td>\n",
       "      <td>12160.95</td>\n",
       "      <td>36.00</td>\n",
       "    </tr>\n",
       "    <tr>\n",
       "      <th>1</th>\n",
       "      <td>BANKNIFTY</td>\n",
       "      <td>20121203</td>\n",
       "      <td>09:17</td>\n",
       "      <td>12161.75</td>\n",
       "      <td>12164.80</td>\n",
       "      <td>12130.40</td>\n",
       "      <td>12130.40</td>\n",
       "      <td>34.40</td>\n",
       "    </tr>\n",
       "    <tr>\n",
       "      <th>2</th>\n",
       "      <td>BANKNIFTY</td>\n",
       "      <td>20121203</td>\n",
       "      <td>09:18</td>\n",
       "      <td>12126.85</td>\n",
       "      <td>12156.10</td>\n",
       "      <td>12126.85</td>\n",
       "      <td>12156.10</td>\n",
       "      <td>29.25</td>\n",
       "    </tr>\n",
       "    <tr>\n",
       "      <th>3</th>\n",
       "      <td>BANKNIFTY</td>\n",
       "      <td>20121203</td>\n",
       "      <td>09:19</td>\n",
       "      <td>12157.25</td>\n",
       "      <td>12164.75</td>\n",
       "      <td>12151.60</td>\n",
       "      <td>12164.20</td>\n",
       "      <td>13.15</td>\n",
       "    </tr>\n",
       "    <tr>\n",
       "      <th>4</th>\n",
       "      <td>BANKNIFTY</td>\n",
       "      <td>20121203</td>\n",
       "      <td>09:20</td>\n",
       "      <td>12162.80</td>\n",
       "      <td>12162.80</td>\n",
       "      <td>12148.20</td>\n",
       "      <td>12151.15</td>\n",
       "      <td>14.60</td>\n",
       "    </tr>\n",
       "    <tr>\n",
       "      <th>...</th>\n",
       "      <td>...</td>\n",
       "      <td>...</td>\n",
       "      <td>...</td>\n",
       "      <td>...</td>\n",
       "      <td>...</td>\n",
       "      <td>...</td>\n",
       "      <td>...</td>\n",
       "      <td>...</td>\n",
       "    </tr>\n",
       "    <tr>\n",
       "      <th>367570</th>\n",
       "      <td>BANKNIFTY</td>\n",
       "      <td>20160930</td>\n",
       "      <td>15:26</td>\n",
       "      <td>19321.00</td>\n",
       "      <td>19322.80</td>\n",
       "      <td>19314.25</td>\n",
       "      <td>19318.35</td>\n",
       "      <td>8.55</td>\n",
       "    </tr>\n",
       "    <tr>\n",
       "      <th>367571</th>\n",
       "      <td>BANKNIFTY</td>\n",
       "      <td>20160930</td>\n",
       "      <td>15:27</td>\n",
       "      <td>19318.80</td>\n",
       "      <td>19322.20</td>\n",
       "      <td>19312.30</td>\n",
       "      <td>19317.40</td>\n",
       "      <td>9.90</td>\n",
       "    </tr>\n",
       "    <tr>\n",
       "      <th>367572</th>\n",
       "      <td>BANKNIFTY</td>\n",
       "      <td>20160930</td>\n",
       "      <td>15:28</td>\n",
       "      <td>19317.55</td>\n",
       "      <td>19323.40</td>\n",
       "      <td>19314.45</td>\n",
       "      <td>19315.95</td>\n",
       "      <td>8.95</td>\n",
       "    </tr>\n",
       "    <tr>\n",
       "      <th>367573</th>\n",
       "      <td>BANKNIFTY</td>\n",
       "      <td>20160930</td>\n",
       "      <td>15:29</td>\n",
       "      <td>19315.80</td>\n",
       "      <td>19324.20</td>\n",
       "      <td>19312.00</td>\n",
       "      <td>19314.10</td>\n",
       "      <td>12.20</td>\n",
       "    </tr>\n",
       "    <tr>\n",
       "      <th>367574</th>\n",
       "      <td>BANKNIFTY</td>\n",
       "      <td>20160930</td>\n",
       "      <td>15:30</td>\n",
       "      <td>19313.60</td>\n",
       "      <td>19330.85</td>\n",
       "      <td>19311.20</td>\n",
       "      <td>19323.20</td>\n",
       "      <td>19.65</td>\n",
       "    </tr>\n",
       "  </tbody>\n",
       "</table>\n",
       "<p>367575 rows × 8 columns</p>\n",
       "</div>"
      ],
      "text/plain": [
       "            index      date   time      open      high       low     close  \\\n",
       "0       BANKNIFTY  20121203  09:16  12125.70  12161.70  12125.70  12160.95   \n",
       "1       BANKNIFTY  20121203  09:17  12161.75  12164.80  12130.40  12130.40   \n",
       "2       BANKNIFTY  20121203  09:18  12126.85  12156.10  12126.85  12156.10   \n",
       "3       BANKNIFTY  20121203  09:19  12157.25  12164.75  12151.60  12164.20   \n",
       "4       BANKNIFTY  20121203  09:20  12162.80  12162.80  12148.20  12151.15   \n",
       "...           ...       ...    ...       ...       ...       ...       ...   \n",
       "367570  BANKNIFTY  20160930  15:26  19321.00  19322.80  19314.25  19318.35   \n",
       "367571  BANKNIFTY  20160930  15:27  19318.80  19322.20  19312.30  19317.40   \n",
       "367572  BANKNIFTY  20160930  15:28  19317.55  19323.40  19314.45  19315.95   \n",
       "367573  BANKNIFTY  20160930  15:29  19315.80  19324.20  19312.00  19314.10   \n",
       "367574  BANKNIFTY  20160930  15:30  19313.60  19330.85  19311.20  19323.20   \n",
       "\n",
       "        range  \n",
       "0       36.00  \n",
       "1       34.40  \n",
       "2       29.25  \n",
       "3       13.15  \n",
       "4       14.60  \n",
       "...       ...  \n",
       "367570   8.55  \n",
       "367571   9.90  \n",
       "367572   8.95  \n",
       "367573  12.20  \n",
       "367574  19.65  \n",
       "\n",
       "[367575 rows x 8 columns]"
      ]
     },
     "execution_count": 23,
     "metadata": {},
     "output_type": "execute_result"
    }
   ],
   "source": [
    "banknifty_dir"
   ]
  },
  {
   "cell_type": "code",
   "execution_count": 24,
   "metadata": {},
   "outputs": [],
   "source": [
    "merged_df = nifty50_dir.merge(banknifty_dir, on=\"close\")"
   ]
  },
  {
   "cell_type": "code",
   "execution_count": 25,
   "metadata": {},
   "outputs": [
    {
     "data": {
      "text/html": [
       "<div>\n",
       "<style scoped>\n",
       "    .dataframe tbody tr th:only-of-type {\n",
       "        vertical-align: middle;\n",
       "    }\n",
       "\n",
       "    .dataframe tbody tr th {\n",
       "        vertical-align: top;\n",
       "    }\n",
       "\n",
       "    .dataframe thead th {\n",
       "        text-align: right;\n",
       "    }\n",
       "</style>\n",
       "<table border=\"1\" class=\"dataframe\">\n",
       "  <thead>\n",
       "    <tr style=\"text-align: right;\">\n",
       "      <th></th>\n",
       "      <th>index_x</th>\n",
       "      <th>date_x</th>\n",
       "      <th>time_x</th>\n",
       "      <th>open_x</th>\n",
       "      <th>high_x</th>\n",
       "      <th>low_x</th>\n",
       "      <th>close</th>\n",
       "      <th>range_x</th>\n",
       "      <th>index_y</th>\n",
       "      <th>date_y</th>\n",
       "      <th>time_y</th>\n",
       "      <th>open_y</th>\n",
       "      <th>high_y</th>\n",
       "      <th>low_y</th>\n",
       "      <th>range_y</th>\n",
       "    </tr>\n",
       "  </thead>\n",
       "  <tbody>\n",
       "    <tr>\n",
       "      <th>0</th>\n",
       "      <td>NIFTY</td>\n",
       "      <td>20141201</td>\n",
       "      <td>09:17</td>\n",
       "      <td>8610.00</td>\n",
       "      <td>8615.75</td>\n",
       "      <td>8608.75</td>\n",
       "      <td>8615.75</td>\n",
       "      <td>7.00</td>\n",
       "      <td>BANKNIFTY</td>\n",
       "      <td>20130828</td>\n",
       "      <td>11:13</td>\n",
       "      <td>8587.65</td>\n",
       "      <td>8615.75</td>\n",
       "      <td>8587.65</td>\n",
       "      <td>28.10</td>\n",
       "    </tr>\n",
       "    <tr>\n",
       "      <th>1</th>\n",
       "      <td>NIFTY</td>\n",
       "      <td>20150407</td>\n",
       "      <td>11:18</td>\n",
       "      <td>8619.85</td>\n",
       "      <td>8622.05</td>\n",
       "      <td>8614.65</td>\n",
       "      <td>8615.75</td>\n",
       "      <td>7.40</td>\n",
       "      <td>BANKNIFTY</td>\n",
       "      <td>20130828</td>\n",
       "      <td>11:13</td>\n",
       "      <td>8587.65</td>\n",
       "      <td>8615.75</td>\n",
       "      <td>8587.65</td>\n",
       "      <td>28.10</td>\n",
       "    </tr>\n",
       "    <tr>\n",
       "      <th>2</th>\n",
       "      <td>NIFTY</td>\n",
       "      <td>20150211</td>\n",
       "      <td>14:04</td>\n",
       "      <td>8616.85</td>\n",
       "      <td>8618.25</td>\n",
       "      <td>8615.30</td>\n",
       "      <td>8615.75</td>\n",
       "      <td>2.95</td>\n",
       "      <td>BANKNIFTY</td>\n",
       "      <td>20130828</td>\n",
       "      <td>11:13</td>\n",
       "      <td>8587.65</td>\n",
       "      <td>8615.75</td>\n",
       "      <td>8587.65</td>\n",
       "      <td>28.10</td>\n",
       "    </tr>\n",
       "    <tr>\n",
       "      <th>3</th>\n",
       "      <td>NIFTY</td>\n",
       "      <td>20150212</td>\n",
       "      <td>12:32</td>\n",
       "      <td>8614.15</td>\n",
       "      <td>8616.00</td>\n",
       "      <td>8614.15</td>\n",
       "      <td>8615.75</td>\n",
       "      <td>1.85</td>\n",
       "      <td>BANKNIFTY</td>\n",
       "      <td>20130828</td>\n",
       "      <td>11:13</td>\n",
       "      <td>8587.65</td>\n",
       "      <td>8615.75</td>\n",
       "      <td>8587.65</td>\n",
       "      <td>28.10</td>\n",
       "    </tr>\n",
       "    <tr>\n",
       "      <th>4</th>\n",
       "      <td>NIFTY</td>\n",
       "      <td>20150717</td>\n",
       "      <td>15:28</td>\n",
       "      <td>8616.10</td>\n",
       "      <td>8616.70</td>\n",
       "      <td>8613.55</td>\n",
       "      <td>8615.75</td>\n",
       "      <td>3.15</td>\n",
       "      <td>BANKNIFTY</td>\n",
       "      <td>20130828</td>\n",
       "      <td>11:13</td>\n",
       "      <td>8587.65</td>\n",
       "      <td>8615.75</td>\n",
       "      <td>8587.65</td>\n",
       "      <td>28.10</td>\n",
       "    </tr>\n",
       "    <tr>\n",
       "      <th>...</th>\n",
       "      <td>...</td>\n",
       "      <td>...</td>\n",
       "      <td>...</td>\n",
       "      <td>...</td>\n",
       "      <td>...</td>\n",
       "      <td>...</td>\n",
       "      <td>...</td>\n",
       "      <td>...</td>\n",
       "      <td>...</td>\n",
       "      <td>...</td>\n",
       "      <td>...</td>\n",
       "      <td>...</td>\n",
       "      <td>...</td>\n",
       "      <td>...</td>\n",
       "      <td>...</td>\n",
       "    </tr>\n",
       "    <tr>\n",
       "      <th>7285</th>\n",
       "      <td>NIFTY</td>\n",
       "      <td>20160923</td>\n",
       "      <td>10:57</td>\n",
       "      <td>8858.90</td>\n",
       "      <td>8859.55</td>\n",
       "      <td>8858.35</td>\n",
       "      <td>8859.35</td>\n",
       "      <td>1.20</td>\n",
       "      <td>BANKNIFTY</td>\n",
       "      <td>20130904</td>\n",
       "      <td>11:04</td>\n",
       "      <td>8863.05</td>\n",
       "      <td>8865.10</td>\n",
       "      <td>8859.35</td>\n",
       "      <td>5.75</td>\n",
       "    </tr>\n",
       "    <tr>\n",
       "      <th>7286</th>\n",
       "      <td>NIFTY</td>\n",
       "      <td>20160923</td>\n",
       "      <td>10:57</td>\n",
       "      <td>8858.90</td>\n",
       "      <td>8859.55</td>\n",
       "      <td>8858.35</td>\n",
       "      <td>8859.35</td>\n",
       "      <td>1.20</td>\n",
       "      <td>BANKNIFTY</td>\n",
       "      <td>20130904</td>\n",
       "      <td>11:30</td>\n",
       "      <td>8862.65</td>\n",
       "      <td>8867.75</td>\n",
       "      <td>8858.95</td>\n",
       "      <td>8.80</td>\n",
       "    </tr>\n",
       "    <tr>\n",
       "      <th>7287</th>\n",
       "      <td>NIFTY</td>\n",
       "      <td>20160923</td>\n",
       "      <td>11:59</td>\n",
       "      <td>8867.20</td>\n",
       "      <td>8868.45</td>\n",
       "      <td>8867.20</td>\n",
       "      <td>8867.90</td>\n",
       "      <td>1.25</td>\n",
       "      <td>BANKNIFTY</td>\n",
       "      <td>20130829</td>\n",
       "      <td>13:20</td>\n",
       "      <td>8853.85</td>\n",
       "      <td>8867.90</td>\n",
       "      <td>8853.85</td>\n",
       "      <td>14.05</td>\n",
       "    </tr>\n",
       "    <tr>\n",
       "      <th>7288</th>\n",
       "      <td>NIFTY</td>\n",
       "      <td>20160923</td>\n",
       "      <td>15:12</td>\n",
       "      <td>8828.55</td>\n",
       "      <td>8829.25</td>\n",
       "      <td>8827.25</td>\n",
       "      <td>8829.25</td>\n",
       "      <td>2.00</td>\n",
       "      <td>BANKNIFTY</td>\n",
       "      <td>20130828</td>\n",
       "      <td>14:57</td>\n",
       "      <td>8806.10</td>\n",
       "      <td>8829.25</td>\n",
       "      <td>8806.10</td>\n",
       "      <td>23.15</td>\n",
       "    </tr>\n",
       "    <tr>\n",
       "      <th>7289</th>\n",
       "      <td>NIFTY</td>\n",
       "      <td>20160923</td>\n",
       "      <td>15:16</td>\n",
       "      <td>8828.15</td>\n",
       "      <td>8831.45</td>\n",
       "      <td>8827.30</td>\n",
       "      <td>8829.25</td>\n",
       "      <td>4.15</td>\n",
       "      <td>BANKNIFTY</td>\n",
       "      <td>20130828</td>\n",
       "      <td>14:57</td>\n",
       "      <td>8806.10</td>\n",
       "      <td>8829.25</td>\n",
       "      <td>8806.10</td>\n",
       "      <td>23.15</td>\n",
       "    </tr>\n",
       "  </tbody>\n",
       "</table>\n",
       "<p>7290 rows × 15 columns</p>\n",
       "</div>"
      ],
      "text/plain": [
       "     index_x    date_x time_x   open_x   high_x    low_x    close  range_x  \\\n",
       "0      NIFTY  20141201  09:17  8610.00  8615.75  8608.75  8615.75     7.00   \n",
       "1      NIFTY  20150407  11:18  8619.85  8622.05  8614.65  8615.75     7.40   \n",
       "2      NIFTY  20150211  14:04  8616.85  8618.25  8615.30  8615.75     2.95   \n",
       "3      NIFTY  20150212  12:32  8614.15  8616.00  8614.15  8615.75     1.85   \n",
       "4      NIFTY  20150717  15:28  8616.10  8616.70  8613.55  8615.75     3.15   \n",
       "...      ...       ...    ...      ...      ...      ...      ...      ...   \n",
       "7285   NIFTY  20160923  10:57  8858.90  8859.55  8858.35  8859.35     1.20   \n",
       "7286   NIFTY  20160923  10:57  8858.90  8859.55  8858.35  8859.35     1.20   \n",
       "7287   NIFTY  20160923  11:59  8867.20  8868.45  8867.20  8867.90     1.25   \n",
       "7288   NIFTY  20160923  15:12  8828.55  8829.25  8827.25  8829.25     2.00   \n",
       "7289   NIFTY  20160923  15:16  8828.15  8831.45  8827.30  8829.25     4.15   \n",
       "\n",
       "        index_y    date_y time_y   open_y   high_y    low_y  range_y  \n",
       "0     BANKNIFTY  20130828  11:13  8587.65  8615.75  8587.65    28.10  \n",
       "1     BANKNIFTY  20130828  11:13  8587.65  8615.75  8587.65    28.10  \n",
       "2     BANKNIFTY  20130828  11:13  8587.65  8615.75  8587.65    28.10  \n",
       "3     BANKNIFTY  20130828  11:13  8587.65  8615.75  8587.65    28.10  \n",
       "4     BANKNIFTY  20130828  11:13  8587.65  8615.75  8587.65    28.10  \n",
       "...         ...       ...    ...      ...      ...      ...      ...  \n",
       "7285  BANKNIFTY  20130904  11:04  8863.05  8865.10  8859.35     5.75  \n",
       "7286  BANKNIFTY  20130904  11:30  8862.65  8867.75  8858.95     8.80  \n",
       "7287  BANKNIFTY  20130829  13:20  8853.85  8867.90  8853.85    14.05  \n",
       "7288  BANKNIFTY  20130828  14:57  8806.10  8829.25  8806.10    23.15  \n",
       "7289  BANKNIFTY  20130828  14:57  8806.10  8829.25  8806.10    23.15  \n",
       "\n",
       "[7290 rows x 15 columns]"
      ]
     },
     "execution_count": 25,
     "metadata": {},
     "output_type": "execute_result"
    }
   ],
   "source": [
    "merged_df"
   ]
  },
  {
   "cell_type": "code",
   "execution_count": 26,
   "metadata": {},
   "outputs": [],
   "source": [
    "import jovian"
   ]
  },
  {
   "cell_type": "code",
   "execution_count": 27,
   "metadata": {},
   "outputs": [
    {
     "data": {
      "application/javascript": [
       "window.require && require([\"base/js/namespace\"],function(Jupyter){Jupyter.notebook.save_checkpoint()})"
      ],
      "text/plain": [
       "<IPython.core.display.Javascript object>"
      ]
     },
     "metadata": {},
     "output_type": "display_data"
    },
    {
     "name": "stdout",
     "output_type": "stream",
     "text": [
      "[jovian] Updating notebook \"f20201673/analysing-stocks-in-nse-stock-exchange\" on https://jovian.ai\u001b[0m\n",
      "[jovian] Committed successfully! https://jovian.ai/f20201673/analysing-stocks-in-nse-stock-exchange\u001b[0m\n"
     ]
    },
    {
     "data": {
      "text/plain": [
       "'https://jovian.ai/f20201673/analysing-stocks-in-nse-stock-exchange'"
      ]
     },
     "execution_count": 27,
     "metadata": {},
     "output_type": "execute_result"
    }
   ],
   "source": [
    "jovian.commit()"
   ]
  },
  {
   "cell_type": "markdown",
   "metadata": {},
   "source": [
    "# ---------------------------------------------------------------------------------------------------------------"
   ]
  },
  {
   "cell_type": "markdown",
   "metadata": {},
   "source": [
    "## Exploratory Analysis and Visualization\n",
    "\n",
    "Now lets have some visuals which will provide better insights to our existing data. i have imported seaborn and matplotlib for this purpose.\n",
    "\n"
   ]
  },
  {
   "cell_type": "markdown",
   "metadata": {},
   "source": [
    "> Instructions (delete this cell)\n",
    "> \n",
    "> - Compute the mean, sum, range and other interesting statistics for numeric columns\n",
    "> - Explore distributions of numeric columns using histograms etc.\n",
    "> - Explore relationship between columns using scatter plots, bar charts etc.\n",
    "> - Make a note of interesting insights from the exploratory analysis"
   ]
  },
  {
   "cell_type": "code",
   "execution_count": 28,
   "metadata": {},
   "outputs": [],
   "source": [
    "nifty50_dir_lite = nifty50_dir.head(150)"
   ]
  },
  {
   "cell_type": "code",
   "execution_count": 29,
   "metadata": {},
   "outputs": [],
   "source": [
    "banknifty_dir_lite = banknifty_dir.head(150)"
   ]
  },
  {
   "cell_type": "markdown",
   "metadata": {},
   "source": [
    "Let's begin by importing`matplotlib.pyplot` and `seaborn`."
   ]
  },
  {
   "cell_type": "code",
   "execution_count": 30,
   "metadata": {},
   "outputs": [],
   "source": [
    "import seaborn as sns\n",
    "import matplotlib\n",
    "import matplotlib.pyplot as plt\n",
    "%matplotlib inline\n",
    "sns.set_style('darkgrid')\n",
    "matplotlib.rcParams['font.size'] = 14\n",
    "matplotlib.rcParams['figure.figsize'] = (9, 5)\n",
    "matplotlib.rcParams['figure.facecolor'] = '#00000000'"
   ]
  },
  {
   "cell_type": "markdown",
   "metadata": {},
   "source": [
    "#### Lets have some brief overview of statistics like mean, standard deviation, max, min, etc. in these datasets."
   ]
  },
  {
   "cell_type": "code",
   "execution_count": 31,
   "metadata": {},
   "outputs": [
    {
     "data": {
      "text/html": [
       "<div>\n",
       "<style scoped>\n",
       "    .dataframe tbody tr th:only-of-type {\n",
       "        vertical-align: middle;\n",
       "    }\n",
       "\n",
       "    .dataframe tbody tr th {\n",
       "        vertical-align: top;\n",
       "    }\n",
       "\n",
       "    .dataframe thead th {\n",
       "        text-align: right;\n",
       "    }\n",
       "</style>\n",
       "<table border=\"1\" class=\"dataframe\">\n",
       "  <thead>\n",
       "    <tr style=\"text-align: right;\">\n",
       "      <th></th>\n",
       "      <th>date_x</th>\n",
       "      <th>open_x</th>\n",
       "      <th>high_x</th>\n",
       "      <th>low_x</th>\n",
       "      <th>close</th>\n",
       "      <th>range_x</th>\n",
       "      <th>date_y</th>\n",
       "      <th>open_y</th>\n",
       "      <th>high_y</th>\n",
       "      <th>low_y</th>\n",
       "      <th>range_y</th>\n",
       "    </tr>\n",
       "  </thead>\n",
       "  <tbody>\n",
       "    <tr>\n",
       "      <th>count</th>\n",
       "      <td>7.290000e+03</td>\n",
       "      <td>7290.000000</td>\n",
       "      <td>7290.000000</td>\n",
       "      <td>7290.000000</td>\n",
       "      <td>7290.000000</td>\n",
       "      <td>7290.000000</td>\n",
       "      <td>7.290000e+03</td>\n",
       "      <td>7290.000000</td>\n",
       "      <td>7290.000000</td>\n",
       "      <td>7290.000000</td>\n",
       "      <td>7290.000000</td>\n",
       "    </tr>\n",
       "    <tr>\n",
       "      <th>mean</th>\n",
       "      <td>2.015441e+07</td>\n",
       "      <td>8744.382565</td>\n",
       "      <td>8746.150898</td>\n",
       "      <td>8742.559499</td>\n",
       "      <td>8744.298121</td>\n",
       "      <td>3.591399</td>\n",
       "      <td>2.013086e+07</td>\n",
       "      <td>8744.562263</td>\n",
       "      <td>8750.206008</td>\n",
       "      <td>8738.805754</td>\n",
       "      <td>11.400254</td>\n",
       "    </tr>\n",
       "    <tr>\n",
       "      <th>std</th>\n",
       "      <td>5.596766e+03</td>\n",
       "      <td>133.338175</td>\n",
       "      <td>133.432107</td>\n",
       "      <td>133.165285</td>\n",
       "      <td>133.223649</td>\n",
       "      <td>2.713188</td>\n",
       "      <td>3.627835e+01</td>\n",
       "      <td>133.453307</td>\n",
       "      <td>132.739404</td>\n",
       "      <td>133.701288</td>\n",
       "      <td>7.765256</td>\n",
       "    </tr>\n",
       "    <tr>\n",
       "      <th>min</th>\n",
       "      <td>2.014111e+07</td>\n",
       "      <td>8384.500000</td>\n",
       "      <td>8386.150000</td>\n",
       "      <td>8381.350000</td>\n",
       "      <td>8383.300000</td>\n",
       "      <td>0.600000</td>\n",
       "      <td>2.013082e+07</td>\n",
       "      <td>8384.300000</td>\n",
       "      <td>8401.450000</td>\n",
       "      <td>8366.750000</td>\n",
       "      <td>1.250000</td>\n",
       "    </tr>\n",
       "    <tr>\n",
       "      <th>25%</th>\n",
       "      <td>2.015022e+07</td>\n",
       "      <td>8637.100000</td>\n",
       "      <td>8639.050000</td>\n",
       "      <td>8635.550000</td>\n",
       "      <td>8637.600000</td>\n",
       "      <td>2.000000</td>\n",
       "      <td>2.013083e+07</td>\n",
       "      <td>8636.400000</td>\n",
       "      <td>8641.500000</td>\n",
       "      <td>8633.450000</td>\n",
       "      <td>6.400000</td>\n",
       "    </tr>\n",
       "    <tr>\n",
       "      <th>50%</th>\n",
       "      <td>2.015042e+07</td>\n",
       "      <td>8768.075000</td>\n",
       "      <td>8770.625000</td>\n",
       "      <td>8766.200000</td>\n",
       "      <td>8768.275000</td>\n",
       "      <td>2.900000</td>\n",
       "      <td>2.013083e+07</td>\n",
       "      <td>8770.500000</td>\n",
       "      <td>8776.200000</td>\n",
       "      <td>8763.550000</td>\n",
       "      <td>9.700000</td>\n",
       "    </tr>\n",
       "    <tr>\n",
       "      <th>75%</th>\n",
       "      <td>2.016082e+07</td>\n",
       "      <td>8851.937500</td>\n",
       "      <td>8853.100000</td>\n",
       "      <td>8850.550000</td>\n",
       "      <td>8851.950000</td>\n",
       "      <td>4.350000</td>\n",
       "      <td>2.013090e+07</td>\n",
       "      <td>8852.750000</td>\n",
       "      <td>8857.837500</td>\n",
       "      <td>8847.250000</td>\n",
       "      <td>14.300000</td>\n",
       "    </tr>\n",
       "    <tr>\n",
       "      <th>max</th>\n",
       "      <td>2.016093e+07</td>\n",
       "      <td>9115.400000</td>\n",
       "      <td>9119.200000</td>\n",
       "      <td>9105.650000</td>\n",
       "      <td>9106.500000</td>\n",
       "      <td>55.200000</td>\n",
       "      <td>2.013090e+07</td>\n",
       "      <td>9104.850000</td>\n",
       "      <td>9108.100000</td>\n",
       "      <td>9104.850000</td>\n",
       "      <td>83.500000</td>\n",
       "    </tr>\n",
       "  </tbody>\n",
       "</table>\n",
       "</div>"
      ],
      "text/plain": [
       "             date_x       open_x       high_x        low_x        close  \\\n",
       "count  7.290000e+03  7290.000000  7290.000000  7290.000000  7290.000000   \n",
       "mean   2.015441e+07  8744.382565  8746.150898  8742.559499  8744.298121   \n",
       "std    5.596766e+03   133.338175   133.432107   133.165285   133.223649   \n",
       "min    2.014111e+07  8384.500000  8386.150000  8381.350000  8383.300000   \n",
       "25%    2.015022e+07  8637.100000  8639.050000  8635.550000  8637.600000   \n",
       "50%    2.015042e+07  8768.075000  8770.625000  8766.200000  8768.275000   \n",
       "75%    2.016082e+07  8851.937500  8853.100000  8850.550000  8851.950000   \n",
       "max    2.016093e+07  9115.400000  9119.200000  9105.650000  9106.500000   \n",
       "\n",
       "           range_x        date_y       open_y       high_y        low_y  \\\n",
       "count  7290.000000  7.290000e+03  7290.000000  7290.000000  7290.000000   \n",
       "mean      3.591399  2.013086e+07  8744.562263  8750.206008  8738.805754   \n",
       "std       2.713188  3.627835e+01   133.453307   132.739404   133.701288   \n",
       "min       0.600000  2.013082e+07  8384.300000  8401.450000  8366.750000   \n",
       "25%       2.000000  2.013083e+07  8636.400000  8641.500000  8633.450000   \n",
       "50%       2.900000  2.013083e+07  8770.500000  8776.200000  8763.550000   \n",
       "75%       4.350000  2.013090e+07  8852.750000  8857.837500  8847.250000   \n",
       "max      55.200000  2.013090e+07  9104.850000  9108.100000  9104.850000   \n",
       "\n",
       "           range_y  \n",
       "count  7290.000000  \n",
       "mean     11.400254  \n",
       "std       7.765256  \n",
       "min       1.250000  \n",
       "25%       6.400000  \n",
       "50%       9.700000  \n",
       "75%      14.300000  \n",
       "max      83.500000  "
      ]
     },
     "execution_count": 31,
     "metadata": {},
     "output_type": "execute_result"
    }
   ],
   "source": [
    "merged_df.describe()"
   ]
  },
  {
   "cell_type": "markdown",
   "metadata": {},
   "source": [
    "#### Lets see the overall relationship of opening and closing values of these stocks in this particular dataset."
   ]
  },
  {
   "cell_type": "code",
   "execution_count": 32,
   "metadata": {},
   "outputs": [
    {
     "data": {
      "text/plain": [
       "<AxesSubplot:title={'center':'BankNifty Open Vs Close'}, xlabel='open', ylabel='close'>"
      ]
     },
     "execution_count": 32,
     "metadata": {},
     "output_type": "execute_result"
    },
    {
     "data": {
      "image/png": "[encoded data removed]",
      "text/plain": [
       "<Figure size 648x360 with 1 Axes>"
      ]
     },
     "metadata": {
      "needs_background": "light"
     },
     "output_type": "display_data"
    }
   ],
   "source": [
    "plt.title(\"BankNifty Open Vs Close\")\n",
    "sns.scatterplot(x = banknifty_dir_lite.open, y = banknifty_dir_lite.close)"
   ]
  },
  {
   "cell_type": "code",
   "execution_count": 33,
   "metadata": {},
   "outputs": [
    {
     "data": {
      "text/plain": [
       "<AxesSubplot:title={'center':'Nifty50 Open Vs Close'}, xlabel='open', ylabel='close'>"
      ]
     },
     "execution_count": 33,
     "metadata": {},
     "output_type": "execute_result"
    },
    {
     "data": {
      "image/png": "[encoded data removed]",
      "text/plain": [
       "<Figure size 648x360 with 1 Axes>"
      ]
     },
     "metadata": {
      "needs_background": "light"
     },
     "output_type": "display_data"
    }
   ],
   "source": [
    "plt.title(\"Nifty50 Open Vs Close\")\n",
    "sns.scatterplot(x = nifty50_dir_lite.open, y = nifty50_dir_lite.close)"
   ]
  },
  {
   "cell_type": "markdown",
   "metadata": {},
   "source": [
    "### We observe that in case of BankNifty, the values ranging from 12090-12120 have the highest entries for openings and closings. Similarly for Nifty50, the range is 5705-5715"
   ]
  },
  {
   "cell_type": "markdown",
   "metadata": {},
   "source": [
    "# ---------------------------------------------------------------------------------------------------------------"
   ]
  },
  {
   "cell_type": "markdown",
   "metadata": {},
   "source": [
    "#### Now let's try to compare the time and closing value for nifty50 in the following plot"
   ]
  },
  {
   "cell_type": "code",
   "execution_count": 34,
   "metadata": {},
   "outputs": [
    {
     "data": {
      "text/plain": [
       "[<matplotlib.lines.Line2D at 0x7f4f1a660b50>]"
      ]
     },
     "execution_count": 34,
     "metadata": {},
     "output_type": "execute_result"
    },
    {
     "data": {
      "image/png": "[encoded data removed]",
      "text/plain": [
       "<Figure size 648x360 with 1 Axes>"
      ]
     },
     "metadata": {
      "needs_background": "light"
     },
     "output_type": "display_data"
    }
   ],
   "source": [
    "plt.plot( nifty50_dir.time, nifty50_dir.close)"
   ]
  },
  {
   "cell_type": "markdown",
   "metadata": {},
   "source": [
    "## As you may see, due to large amount of values, the graph doesnt convey anything properly. The same will happen in the case of banknifty. Hence I will trim my dataset, keeping the market values only until 11:45 am"
   ]
  },
  {
   "cell_type": "code",
   "execution_count": 35,
   "metadata": {},
   "outputs": [],
   "source": [
    "nifty50_dir_lite = nifty50_dir.head(150)"
   ]
  },
  {
   "cell_type": "code",
   "execution_count": 36,
   "metadata": {},
   "outputs": [],
   "source": [
    "banknifty_dir_lite = banknifty_dir.head(150)"
   ]
  },
  {
   "cell_type": "code",
   "execution_count": 37,
   "metadata": {},
   "outputs": [
    {
     "data": {
      "text/html": [
       "<div>\n",
       "<style scoped>\n",
       "    .dataframe tbody tr th:only-of-type {\n",
       "        vertical-align: middle;\n",
       "    }\n",
       "\n",
       "    .dataframe tbody tr th {\n",
       "        vertical-align: top;\n",
       "    }\n",
       "\n",
       "    .dataframe thead th {\n",
       "        text-align: right;\n",
       "    }\n",
       "</style>\n",
       "<table border=\"1\" class=\"dataframe\">\n",
       "  <thead>\n",
       "    <tr style=\"text-align: right;\">\n",
       "      <th></th>\n",
       "      <th>index</th>\n",
       "      <th>date</th>\n",
       "      <th>time</th>\n",
       "      <th>open</th>\n",
       "      <th>high</th>\n",
       "      <th>low</th>\n",
       "      <th>close</th>\n",
       "      <th>range</th>\n",
       "    </tr>\n",
       "  </thead>\n",
       "  <tbody>\n",
       "    <tr>\n",
       "      <th>0</th>\n",
       "      <td>NIFTY</td>\n",
       "      <td>20130401</td>\n",
       "      <td>09:16</td>\n",
       "      <td>5701.15</td>\n",
       "      <td>5704.65</td>\n",
       "      <td>5694.30</td>\n",
       "      <td>5697.00</td>\n",
       "      <td>10.35</td>\n",
       "    </tr>\n",
       "    <tr>\n",
       "      <th>1</th>\n",
       "      <td>NIFTY</td>\n",
       "      <td>20130401</td>\n",
       "      <td>09:17</td>\n",
       "      <td>5697.05</td>\n",
       "      <td>5698.35</td>\n",
       "      <td>5695.65</td>\n",
       "      <td>5697.50</td>\n",
       "      <td>2.70</td>\n",
       "    </tr>\n",
       "    <tr>\n",
       "      <th>2</th>\n",
       "      <td>NIFTY</td>\n",
       "      <td>20130401</td>\n",
       "      <td>09:18</td>\n",
       "      <td>5697.90</td>\n",
       "      <td>5697.90</td>\n",
       "      <td>5690.60</td>\n",
       "      <td>5692.15</td>\n",
       "      <td>7.30</td>\n",
       "    </tr>\n",
       "    <tr>\n",
       "      <th>3</th>\n",
       "      <td>NIFTY</td>\n",
       "      <td>20130401</td>\n",
       "      <td>09:19</td>\n",
       "      <td>5691.65</td>\n",
       "      <td>5694.70</td>\n",
       "      <td>5691.65</td>\n",
       "      <td>5693.90</td>\n",
       "      <td>3.05</td>\n",
       "    </tr>\n",
       "    <tr>\n",
       "      <th>4</th>\n",
       "      <td>NIFTY</td>\n",
       "      <td>20130401</td>\n",
       "      <td>09:20</td>\n",
       "      <td>5694.40</td>\n",
       "      <td>5695.05</td>\n",
       "      <td>5693.35</td>\n",
       "      <td>5694.55</td>\n",
       "      <td>1.70</td>\n",
       "    </tr>\n",
       "    <tr>\n",
       "      <th>...</th>\n",
       "      <td>...</td>\n",
       "      <td>...</td>\n",
       "      <td>...</td>\n",
       "      <td>...</td>\n",
       "      <td>...</td>\n",
       "      <td>...</td>\n",
       "      <td>...</td>\n",
       "      <td>...</td>\n",
       "    </tr>\n",
       "    <tr>\n",
       "      <th>145</th>\n",
       "      <td>NIFTY</td>\n",
       "      <td>20130401</td>\n",
       "      <td>11:41</td>\n",
       "      <td>5700.35</td>\n",
       "      <td>5700.50</td>\n",
       "      <td>5698.80</td>\n",
       "      <td>5698.85</td>\n",
       "      <td>1.70</td>\n",
       "    </tr>\n",
       "    <tr>\n",
       "      <th>146</th>\n",
       "      <td>NIFTY</td>\n",
       "      <td>20130401</td>\n",
       "      <td>11:42</td>\n",
       "      <td>5698.70</td>\n",
       "      <td>5698.75</td>\n",
       "      <td>5697.10</td>\n",
       "      <td>5697.25</td>\n",
       "      <td>1.65</td>\n",
       "    </tr>\n",
       "    <tr>\n",
       "      <th>147</th>\n",
       "      <td>NIFTY</td>\n",
       "      <td>20130401</td>\n",
       "      <td>11:43</td>\n",
       "      <td>5697.50</td>\n",
       "      <td>5697.65</td>\n",
       "      <td>5696.85</td>\n",
       "      <td>5696.85</td>\n",
       "      <td>0.80</td>\n",
       "    </tr>\n",
       "    <tr>\n",
       "      <th>148</th>\n",
       "      <td>NIFTY</td>\n",
       "      <td>20130401</td>\n",
       "      <td>11:44</td>\n",
       "      <td>5696.80</td>\n",
       "      <td>5696.90</td>\n",
       "      <td>5695.95</td>\n",
       "      <td>5696.15</td>\n",
       "      <td>0.95</td>\n",
       "    </tr>\n",
       "    <tr>\n",
       "      <th>149</th>\n",
       "      <td>NIFTY</td>\n",
       "      <td>20130401</td>\n",
       "      <td>11:45</td>\n",
       "      <td>5696.20</td>\n",
       "      <td>5696.35</td>\n",
       "      <td>5695.80</td>\n",
       "      <td>5696.05</td>\n",
       "      <td>0.55</td>\n",
       "    </tr>\n",
       "  </tbody>\n",
       "</table>\n",
       "<p>150 rows × 8 columns</p>\n",
       "</div>"
      ],
      "text/plain": [
       "     index      date   time     open     high      low    close  range\n",
       "0    NIFTY  20130401  09:16  5701.15  5704.65  5694.30  5697.00  10.35\n",
       "1    NIFTY  20130401  09:17  5697.05  5698.35  5695.65  5697.50   2.70\n",
       "2    NIFTY  20130401  09:18  5697.90  5697.90  5690.60  5692.15   7.30\n",
       "3    NIFTY  20130401  09:19  5691.65  5694.70  5691.65  5693.90   3.05\n",
       "4    NIFTY  20130401  09:20  5694.40  5695.05  5693.35  5694.55   1.70\n",
       "..     ...       ...    ...      ...      ...      ...      ...    ...\n",
       "145  NIFTY  20130401  11:41  5700.35  5700.50  5698.80  5698.85   1.70\n",
       "146  NIFTY  20130401  11:42  5698.70  5698.75  5697.10  5697.25   1.65\n",
       "147  NIFTY  20130401  11:43  5697.50  5697.65  5696.85  5696.85   0.80\n",
       "148  NIFTY  20130401  11:44  5696.80  5696.90  5695.95  5696.15   0.95\n",
       "149  NIFTY  20130401  11:45  5696.20  5696.35  5695.80  5696.05   0.55\n",
       "\n",
       "[150 rows x 8 columns]"
      ]
     },
     "execution_count": 37,
     "metadata": {},
     "output_type": "execute_result"
    }
   ],
   "source": [
    "nifty50_dir_lite"
   ]
  },
  {
   "cell_type": "code",
   "execution_count": 38,
   "metadata": {
    "scrolled": false
   },
   "outputs": [
    {
     "data": {
      "text/html": [
       "<div>\n",
       "<style scoped>\n",
       "    .dataframe tbody tr th:only-of-type {\n",
       "        vertical-align: middle;\n",
       "    }\n",
       "\n",
       "    .dataframe tbody tr th {\n",
       "        vertical-align: top;\n",
       "    }\n",
       "\n",
       "    .dataframe thead th {\n",
       "        text-align: right;\n",
       "    }\n",
       "</style>\n",
       "<table border=\"1\" class=\"dataframe\">\n",
       "  <thead>\n",
       "    <tr style=\"text-align: right;\">\n",
       "      <th></th>\n",
       "      <th>index</th>\n",
       "      <th>date</th>\n",
       "      <th>time</th>\n",
       "      <th>open</th>\n",
       "      <th>high</th>\n",
       "      <th>low</th>\n",
       "      <th>close</th>\n",
       "      <th>range</th>\n",
       "    </tr>\n",
       "  </thead>\n",
       "  <tbody>\n",
       "    <tr>\n",
       "      <th>0</th>\n",
       "      <td>BANKNIFTY</td>\n",
       "      <td>20121203</td>\n",
       "      <td>09:16</td>\n",
       "      <td>12125.70</td>\n",
       "      <td>12161.70</td>\n",
       "      <td>12125.70</td>\n",
       "      <td>12160.95</td>\n",
       "      <td>36.00</td>\n",
       "    </tr>\n",
       "    <tr>\n",
       "      <th>1</th>\n",
       "      <td>BANKNIFTY</td>\n",
       "      <td>20121203</td>\n",
       "      <td>09:17</td>\n",
       "      <td>12161.75</td>\n",
       "      <td>12164.80</td>\n",
       "      <td>12130.40</td>\n",
       "      <td>12130.40</td>\n",
       "      <td>34.40</td>\n",
       "    </tr>\n",
       "    <tr>\n",
       "      <th>2</th>\n",
       "      <td>BANKNIFTY</td>\n",
       "      <td>20121203</td>\n",
       "      <td>09:18</td>\n",
       "      <td>12126.85</td>\n",
       "      <td>12156.10</td>\n",
       "      <td>12126.85</td>\n",
       "      <td>12156.10</td>\n",
       "      <td>29.25</td>\n",
       "    </tr>\n",
       "    <tr>\n",
       "      <th>3</th>\n",
       "      <td>BANKNIFTY</td>\n",
       "      <td>20121203</td>\n",
       "      <td>09:19</td>\n",
       "      <td>12157.25</td>\n",
       "      <td>12164.75</td>\n",
       "      <td>12151.60</td>\n",
       "      <td>12164.20</td>\n",
       "      <td>13.15</td>\n",
       "    </tr>\n",
       "    <tr>\n",
       "      <th>4</th>\n",
       "      <td>BANKNIFTY</td>\n",
       "      <td>20121203</td>\n",
       "      <td>09:20</td>\n",
       "      <td>12162.80</td>\n",
       "      <td>12162.80</td>\n",
       "      <td>12148.20</td>\n",
       "      <td>12151.15</td>\n",
       "      <td>14.60</td>\n",
       "    </tr>\n",
       "    <tr>\n",
       "      <th>...</th>\n",
       "      <td>...</td>\n",
       "      <td>...</td>\n",
       "      <td>...</td>\n",
       "      <td>...</td>\n",
       "      <td>...</td>\n",
       "      <td>...</td>\n",
       "      <td>...</td>\n",
       "      <td>...</td>\n",
       "    </tr>\n",
       "    <tr>\n",
       "      <th>145</th>\n",
       "      <td>BANKNIFTY</td>\n",
       "      <td>20121203</td>\n",
       "      <td>11:41</td>\n",
       "      <td>12100.80</td>\n",
       "      <td>12102.95</td>\n",
       "      <td>12099.55</td>\n",
       "      <td>12099.55</td>\n",
       "      <td>3.40</td>\n",
       "    </tr>\n",
       "    <tr>\n",
       "      <th>146</th>\n",
       "      <td>BANKNIFTY</td>\n",
       "      <td>20121203</td>\n",
       "      <td>11:42</td>\n",
       "      <td>12100.95</td>\n",
       "      <td>12101.85</td>\n",
       "      <td>12097.70</td>\n",
       "      <td>12097.70</td>\n",
       "      <td>4.15</td>\n",
       "    </tr>\n",
       "    <tr>\n",
       "      <th>147</th>\n",
       "      <td>BANKNIFTY</td>\n",
       "      <td>20121203</td>\n",
       "      <td>11:43</td>\n",
       "      <td>12097.45</td>\n",
       "      <td>12098.20</td>\n",
       "      <td>12096.10</td>\n",
       "      <td>12096.15</td>\n",
       "      <td>2.10</td>\n",
       "    </tr>\n",
       "    <tr>\n",
       "      <th>148</th>\n",
       "      <td>BANKNIFTY</td>\n",
       "      <td>20121203</td>\n",
       "      <td>11:44</td>\n",
       "      <td>12096.50</td>\n",
       "      <td>12098.30</td>\n",
       "      <td>12096.50</td>\n",
       "      <td>12098.30</td>\n",
       "      <td>1.80</td>\n",
       "    </tr>\n",
       "    <tr>\n",
       "      <th>149</th>\n",
       "      <td>BANKNIFTY</td>\n",
       "      <td>20121203</td>\n",
       "      <td>11:45</td>\n",
       "      <td>12096.25</td>\n",
       "      <td>12097.65</td>\n",
       "      <td>12096.15</td>\n",
       "      <td>12096.75</td>\n",
       "      <td>1.50</td>\n",
       "    </tr>\n",
       "  </tbody>\n",
       "</table>\n",
       "<p>150 rows × 8 columns</p>\n",
       "</div>"
      ],
      "text/plain": [
       "         index      date   time      open      high       low     close  range\n",
       "0    BANKNIFTY  20121203  09:16  12125.70  12161.70  12125.70  12160.95  36.00\n",
       "1    BANKNIFTY  20121203  09:17  12161.75  12164.80  12130.40  12130.40  34.40\n",
       "2    BANKNIFTY  20121203  09:18  12126.85  12156.10  12126.85  12156.10  29.25\n",
       "3    BANKNIFTY  20121203  09:19  12157.25  12164.75  12151.60  12164.20  13.15\n",
       "4    BANKNIFTY  20121203  09:20  12162.80  12162.80  12148.20  12151.15  14.60\n",
       "..         ...       ...    ...       ...       ...       ...       ...    ...\n",
       "145  BANKNIFTY  20121203  11:41  12100.80  12102.95  12099.55  12099.55   3.40\n",
       "146  BANKNIFTY  20121203  11:42  12100.95  12101.85  12097.70  12097.70   4.15\n",
       "147  BANKNIFTY  20121203  11:43  12097.45  12098.20  12096.10  12096.15   2.10\n",
       "148  BANKNIFTY  20121203  11:44  12096.50  12098.30  12096.50  12098.30   1.80\n",
       "149  BANKNIFTY  20121203  11:45  12096.25  12097.65  12096.15  12096.75   1.50\n",
       "\n",
       "[150 rows x 8 columns]"
      ]
     },
     "execution_count": 38,
     "metadata": {},
     "output_type": "execute_result"
    }
   ],
   "source": [
    "banknifty_dir_lite"
   ]
  },
  {
   "cell_type": "code",
   "execution_count": 39,
   "metadata": {
    "scrolled": true
   },
   "outputs": [
    {
     "data": {
      "text/plain": [
       "[<matplotlib.lines.Line2D at 0x7f4f1a22ed00>]"
      ]
     },
     "execution_count": 39,
     "metadata": {},
     "output_type": "execute_result"
    },
    {
     "data": {
      "image/png": "[encoded data removed]",
      "text/plain": [
       "<Figure size 648x360 with 1 Axes>"
      ]
     },
     "metadata": {
      "needs_background": "light"
     },
     "output_type": "display_data"
    }
   ],
   "source": [
    "plt.title('Nifty50 analysis')\n",
    "plt.plot( nifty50_dir_lite.time,  nifty50_dir_lite.close)"
   ]
  },
  {
   "cell_type": "markdown",
   "metadata": {},
   "source": [
    "## This particular plot seems more decent and one can now see the market movements precisely and make inferences like at 11:45, market was in a downtrend.\n"
   ]
  },
  {
   "cell_type": "code",
   "execution_count": 40,
   "metadata": {},
   "outputs": [
    {
     "data": {
      "text/plain": [
       "[<matplotlib.lines.Line2D at 0x7f4f19f4c730>]"
      ]
     },
     "execution_count": 40,
     "metadata": {},
     "output_type": "execute_result"
    },
    {
     "data": {
      "image/png": "[encoded data removed]",
      "text/plain": [
       "<Figure size 648x360 with 1 Axes>"
      ]
     },
     "metadata": {
      "needs_background": "light"
     },
     "output_type": "display_data"
    }
   ],
   "source": [
    "plt.title('Banknifty analysis')\n",
    "plt.plot( banknifty_dir_lite.time,  banknifty_dir_lite.close)"
   ]
  },
  {
   "cell_type": "markdown",
   "metadata": {},
   "source": [
    "### Similarly, for banknifty, one can infer that market opened at a very high circuit but until 11:45 am it has significantly shown a downtrend"
   ]
  },
  {
   "cell_type": "markdown",
   "metadata": {},
   "source": [
    "### Lets compare the highs and lows for each of them"
   ]
  },
  {
   "cell_type": "code",
   "execution_count": 41,
   "metadata": {},
   "outputs": [
    {
     "data": {
      "text/plain": [
       "<matplotlib.legend.Legend at 0x7f4f19e3bdc0>"
      ]
     },
     "execution_count": 41,
     "metadata": {},
     "output_type": "execute_result"
    },
    {
     "data": {
      "image/png": "[encoded data removed]",
      "text/plain": [
       "<Figure size 648x360 with 1 Axes>"
      ]
     },
     "metadata": {
      "needs_background": "light"
     },
     "output_type": "display_data"
    }
   ],
   "source": [
    "nifty50_dir_lite.high.plot()\n",
    "nifty50_dir_lite.low.plot()\n",
    "\n",
    "plt.xlabel(\"Time (in minutes)\")\n",
    "plt.ylabel(\"Price\")\n",
    "\n",
    "plt.title(\"Nifty50 High and Low comparison\")\n",
    "plt.legend(['high', 'low'])"
   ]
  },
  {
   "cell_type": "code",
   "execution_count": 42,
   "metadata": {},
   "outputs": [
    {
     "data": {
      "text/plain": [
       "<matplotlib.legend.Legend at 0x7f4f19de7160>"
      ]
     },
     "execution_count": 42,
     "metadata": {},
     "output_type": "execute_result"
    },
    {
     "data": {
      "image/png": "[encoded data removed]",
      "text/plain": [
       "<Figure size 648x360 with 1 Axes>"
      ]
     },
     "metadata": {
      "needs_background": "light"
     },
     "output_type": "display_data"
    }
   ],
   "source": [
    "banknifty_dir_lite.high.plot()\n",
    "banknifty_dir_lite.low.plot()\n",
    "\n",
    "plt.xlabel(\"Time (in minutes)\")\n",
    "plt.ylabel(\"Price\")\n",
    "\n",
    "plt.title(\"BankNifty High and Low comparison\")\n",
    "plt.legend(['high', 'low'])"
   ]
  },
  {
   "cell_type": "markdown",
   "metadata": {},
   "source": [
    "These plots indicate the range of these stocks."
   ]
  },
  {
   "cell_type": "markdown",
   "metadata": {},
   "source": [
    "# ---------------------------------------------------------------------------------------------------------------"
   ]
  },
  {
   "cell_type": "markdown",
   "metadata": {},
   "source": [
    "#### Lets perform some relativistic analysis amongst nifty50 and banknifty"
   ]
  },
  {
   "cell_type": "code",
   "execution_count": 43,
   "metadata": {
    "scrolled": true
   },
   "outputs": [
    {
     "data": {
      "text/plain": [
       "<matplotlib.legend.Legend at 0x7f4f19d17ee0>"
      ]
     },
     "execution_count": 43,
     "metadata": {},
     "output_type": "execute_result"
    },
    {
     "data": {
      "image/png": "[encoded data removed]",
      "text/plain": [
       "<Figure size 648x360 with 1 Axes>"
      ]
     },
     "metadata": {
      "needs_background": "light"
     },
     "output_type": "display_data"
    }
   ],
   "source": [
    "plt.plot( banknifty_dir_lite.time,  banknifty_dir_lite.close)\n",
    "plt.plot( nifty50_dir_lite.time,  nifty50_dir_lite.close)\n",
    "\n",
    "plt.xlabel(\"Time (in minutes)\")\n",
    "plt.ylabel(\"Price\")\n",
    "\n",
    "plt.title(\"Nifty50 Closing Vs Bank Nifty Closing\")\n",
    "plt.legend(['Nifty50', 'BankNifty'])"
   ]
  },
  {
   "cell_type": "markdown",
   "metadata": {},
   "source": [
    "#### As you may see, we are getting simple straight lines as the Banknifty stock price in the range of 12000-12200 whereas the Nifty50 stock price lies in the range of 5600-5800. This big difference between the ranges makes it difficult to make relativistic anlalysis."
   ]
  },
  {
   "cell_type": "markdown",
   "metadata": {},
   "source": [
    "Now lets try comparing the ranges (range is a paramater I have chosen which indicates the difference between high and low in every minute between 9:15 to 11:30)"
   ]
  },
  {
   "cell_type": "code",
   "execution_count": 44,
   "metadata": {},
   "outputs": [
    {
     "data": {
      "text/plain": [
       "<matplotlib.legend.Legend at 0x7f4f19b04df0>"
      ]
     },
     "execution_count": 44,
     "metadata": {},
     "output_type": "execute_result"
    },
    {
     "data": {
      "image/png": "[encoded data removed]",
      "text/plain": [
       "<Figure size 648x360 with 1 Axes>"
      ]
     },
     "metadata": {
      "needs_background": "light"
     },
     "output_type": "display_data"
    }
   ],
   "source": [
    "plt.title(\"Range comparison of Banknifty and Nifty50\")\n",
    "\n",
    "plt.plot( banknifty_dir_lite.time,  banknifty_dir_lite.range)\n",
    "plt.plot( nifty50_dir_lite.time,  nifty50_dir_lite.range)\n",
    "\n",
    "plt.xlabel(\"Time (in minutes)\")\n",
    "plt.ylabel(\"Price\")\n",
    "\n",
    "plt.legend(['Nifty50', 'BankNifty'])"
   ]
  },
  {
   "cell_type": "markdown",
   "metadata": {},
   "source": [
    "#### This plot provides better relativistic insights as one can infer the banknifty stock range being larger. This indicates that bank nifty fluctuates more (per minute for this timeslot) than nifty50."
   ]
  },
  {
   "cell_type": "markdown",
   "metadata": {},
   "source": [
    "Let us save and upload our work to Jovian before continuing"
   ]
  },
  {
   "cell_type": "code",
   "execution_count": 45,
   "metadata": {},
   "outputs": [],
   "source": [
    "import jovian"
   ]
  },
  {
   "cell_type": "code",
   "execution_count": 46,
   "metadata": {
    "scrolled": true
   },
   "outputs": [
    {
     "data": {
      "application/javascript": [
       "window.require && require([\"base/js/namespace\"],function(Jupyter){Jupyter.notebook.save_checkpoint()})"
      ],
      "text/plain": [
       "<IPython.core.display.Javascript object>"
      ]
     },
     "metadata": {},
     "output_type": "display_data"
    },
    {
     "name": "stdout",
     "output_type": "stream",
     "text": [
      "[jovian] Updating notebook \"f20201673/analysing-stocks-in-nse-stock-exchange\" on https://jovian.ai\u001b[0m\n",
      "[jovian] Committed successfully! https://jovian.ai/f20201673/analysing-stocks-in-nse-stock-exchange\u001b[0m\n"
     ]
    },
    {
     "data": {
      "text/plain": [
       "'https://jovian.ai/f20201673/analysing-stocks-in-nse-stock-exchange'"
      ]
     },
     "execution_count": 46,
     "metadata": {},
     "output_type": "execute_result"
    }
   ],
   "source": [
    "jovian.commit()"
   ]
  },
  {
   "cell_type": "markdown",
   "metadata": {},
   "source": [
    "# ---------------------------------------------------------------------------------------------------------------"
   ]
  },
  {
   "cell_type": "markdown",
   "metadata": {},
   "source": [
    "## Asking and Answering Questions\n",
    "\n",
    "\n",
    "\n"
   ]
  },
  {
   "cell_type": "markdown",
   "metadata": {},
   "source": [
    "#### Q: At which times did the banknifty opened highest?"
   ]
  },
  {
   "cell_type": "code",
   "execution_count": 56,
   "metadata": {},
   "outputs": [
    {
     "data": {
      "text/html": [
       "<div>\n",
       "<style scoped>\n",
       "    .dataframe tbody tr th:only-of-type {\n",
       "        vertical-align: middle;\n",
       "    }\n",
       "\n",
       "    .dataframe tbody tr th {\n",
       "        vertical-align: top;\n",
       "    }\n",
       "\n",
       "    .dataframe thead th {\n",
       "        text-align: right;\n",
       "    }\n",
       "</style>\n",
       "<table border=\"1\" class=\"dataframe\">\n",
       "  <thead>\n",
       "    <tr style=\"text-align: right;\">\n",
       "      <th></th>\n",
       "      <th>index</th>\n",
       "      <th>date</th>\n",
       "      <th>time</th>\n",
       "      <th>open</th>\n",
       "      <th>high</th>\n",
       "      <th>low</th>\n",
       "      <th>close</th>\n",
       "      <th>range</th>\n",
       "    </tr>\n",
       "  </thead>\n",
       "  <tbody>\n",
       "    <tr>\n",
       "      <th>236194</th>\n",
       "      <td>BANKNIFTY</td>\n",
       "      <td>20150128</td>\n",
       "      <td>12:36</td>\n",
       "      <td>20903.95</td>\n",
       "      <td>20903.95</td>\n",
       "      <td>20878.40</td>\n",
       "      <td>20878.40</td>\n",
       "      <td>25.55</td>\n",
       "    </tr>\n",
       "    <tr>\n",
       "      <th>236193</th>\n",
       "      <td>BANKNIFTY</td>\n",
       "      <td>20150128</td>\n",
       "      <td>12:35</td>\n",
       "      <td>20902.15</td>\n",
       "      <td>20907.55</td>\n",
       "      <td>20894.35</td>\n",
       "      <td>20907.55</td>\n",
       "      <td>13.20</td>\n",
       "    </tr>\n",
       "    <tr>\n",
       "      <th>236192</th>\n",
       "      <td>BANKNIFTY</td>\n",
       "      <td>20150128</td>\n",
       "      <td>12:34</td>\n",
       "      <td>20899.80</td>\n",
       "      <td>20905.70</td>\n",
       "      <td>20899.25</td>\n",
       "      <td>20905.05</td>\n",
       "      <td>6.45</td>\n",
       "    </tr>\n",
       "    <tr>\n",
       "      <th>236191</th>\n",
       "      <td>BANKNIFTY</td>\n",
       "      <td>20150128</td>\n",
       "      <td>12:33</td>\n",
       "      <td>20880.65</td>\n",
       "      <td>20904.30</td>\n",
       "      <td>20880.65</td>\n",
       "      <td>20904.30</td>\n",
       "      <td>23.65</td>\n",
       "    </tr>\n",
       "    <tr>\n",
       "      <th>236195</th>\n",
       "      <td>BANKNIFTY</td>\n",
       "      <td>20150128</td>\n",
       "      <td>12:37</td>\n",
       "      <td>20878.70</td>\n",
       "      <td>20878.70</td>\n",
       "      <td>20864.60</td>\n",
       "      <td>20865.80</td>\n",
       "      <td>14.10</td>\n",
       "    </tr>\n",
       "  </tbody>\n",
       "</table>\n",
       "</div>"
      ],
      "text/plain": [
       "            index      date   time      open      high       low     close  \\\n",
       "236194  BANKNIFTY  20150128  12:36  20903.95  20903.95  20878.40  20878.40   \n",
       "236193  BANKNIFTY  20150128  12:35  20902.15  20907.55  20894.35  20907.55   \n",
       "236192  BANKNIFTY  20150128  12:34  20899.80  20905.70  20899.25  20905.05   \n",
       "236191  BANKNIFTY  20150128  12:33  20880.65  20904.30  20880.65  20904.30   \n",
       "236195  BANKNIFTY  20150128  12:37  20878.70  20878.70  20864.60  20865.80   \n",
       "\n",
       "        range  \n",
       "236194  25.55  \n",
       "236193  13.20  \n",
       "236192   6.45  \n",
       "236191  23.65  \n",
       "236195  14.10  "
      ]
     },
     "execution_count": 56,
     "metadata": {},
     "output_type": "execute_result"
    }
   ],
   "source": [
    "banknifty_dir.sort_values('open', ascending = False).head(5)"
   ]
  },
  {
   "cell_type": "markdown",
   "metadata": {},
   "source": [
    "#### Q:Similarly for nifty50 ?"
   ]
  },
  {
   "cell_type": "code",
   "execution_count": 57,
   "metadata": {},
   "outputs": [
    {
     "data": {
      "text/html": [
       "<div>\n",
       "<style scoped>\n",
       "    .dataframe tbody tr th:only-of-type {\n",
       "        vertical-align: middle;\n",
       "    }\n",
       "\n",
       "    .dataframe tbody tr th {\n",
       "        vertical-align: top;\n",
       "    }\n",
       "\n",
       "    .dataframe thead th {\n",
       "        text-align: right;\n",
       "    }\n",
       "</style>\n",
       "<table border=\"1\" class=\"dataframe\">\n",
       "  <thead>\n",
       "    <tr style=\"text-align: right;\">\n",
       "      <th></th>\n",
       "      <th>index</th>\n",
       "      <th>date</th>\n",
       "      <th>time</th>\n",
       "      <th>open</th>\n",
       "      <th>high</th>\n",
       "      <th>low</th>\n",
       "      <th>close</th>\n",
       "      <th>range</th>\n",
       "    </tr>\n",
       "  </thead>\n",
       "  <tbody>\n",
       "    <tr>\n",
       "      <th>240137</th>\n",
       "      <td>NIFTY</td>\n",
       "      <td>20150304</td>\n",
       "      <td>09:16</td>\n",
       "      <td>9115.40</td>\n",
       "      <td>9119.20</td>\n",
       "      <td>9105.65</td>\n",
       "      <td>9106.50</td>\n",
       "      <td>13.55</td>\n",
       "    </tr>\n",
       "    <tr>\n",
       "      <th>240138</th>\n",
       "      <td>NIFTY</td>\n",
       "      <td>20150304</td>\n",
       "      <td>09:17</td>\n",
       "      <td>9104.55</td>\n",
       "      <td>9105.55</td>\n",
       "      <td>9094.90</td>\n",
       "      <td>9096.55</td>\n",
       "      <td>10.65</td>\n",
       "    </tr>\n",
       "    <tr>\n",
       "      <th>240139</th>\n",
       "      <td>NIFTY</td>\n",
       "      <td>20150304</td>\n",
       "      <td>09:18</td>\n",
       "      <td>9097.35</td>\n",
       "      <td>9097.35</td>\n",
       "      <td>9081.40</td>\n",
       "      <td>9090.55</td>\n",
       "      <td>15.95</td>\n",
       "    </tr>\n",
       "    <tr>\n",
       "      <th>240140</th>\n",
       "      <td>NIFTY</td>\n",
       "      <td>20150304</td>\n",
       "      <td>09:19</td>\n",
       "      <td>9090.85</td>\n",
       "      <td>9093.05</td>\n",
       "      <td>9086.10</td>\n",
       "      <td>9087.85</td>\n",
       "      <td>6.95</td>\n",
       "    </tr>\n",
       "    <tr>\n",
       "      <th>240141</th>\n",
       "      <td>NIFTY</td>\n",
       "      <td>20150304</td>\n",
       "      <td>09:20</td>\n",
       "      <td>9088.45</td>\n",
       "      <td>9089.15</td>\n",
       "      <td>9086.05</td>\n",
       "      <td>9088.10</td>\n",
       "      <td>3.10</td>\n",
       "    </tr>\n",
       "  </tbody>\n",
       "</table>\n",
       "</div>"
      ],
      "text/plain": [
       "        index      date   time     open     high      low    close  range\n",
       "240137  NIFTY  20150304  09:16  9115.40  9119.20  9105.65  9106.50  13.55\n",
       "240138  NIFTY  20150304  09:17  9104.55  9105.55  9094.90  9096.55  10.65\n",
       "240139  NIFTY  20150304  09:18  9097.35  9097.35  9081.40  9090.55  15.95\n",
       "240140  NIFTY  20150304  09:19  9090.85  9093.05  9086.10  9087.85   6.95\n",
       "240141  NIFTY  20150304  09:20  9088.45  9089.15  9086.05  9088.10   3.10"
      ]
     },
     "execution_count": 57,
     "metadata": {},
     "output_type": "execute_result"
    }
   ],
   "source": [
    "nifty50_dir.sort_values('open', ascending = False).head(5)"
   ]
  },
  {
   "cell_type": "markdown",
   "metadata": {},
   "source": [
    "#### Q: What was the highest high and lowest low for the day in both banknifty and nifty50?"
   ]
  },
  {
   "cell_type": "markdown",
   "metadata": {},
   "source": [
    "#### Highest high for Banknifty: "
   ]
  },
  {
   "cell_type": "code",
   "execution_count": 60,
   "metadata": {},
   "outputs": [
    {
     "data": {
      "text/html": [
       "<div>\n",
       "<style scoped>\n",
       "    .dataframe tbody tr th:only-of-type {\n",
       "        vertical-align: middle;\n",
       "    }\n",
       "\n",
       "    .dataframe tbody tr th {\n",
       "        vertical-align: top;\n",
       "    }\n",
       "\n",
       "    .dataframe thead th {\n",
       "        text-align: right;\n",
       "    }\n",
       "</style>\n",
       "<table border=\"1\" class=\"dataframe\">\n",
       "  <thead>\n",
       "    <tr style=\"text-align: right;\">\n",
       "      <th></th>\n",
       "      <th>index</th>\n",
       "      <th>date</th>\n",
       "      <th>time</th>\n",
       "      <th>open</th>\n",
       "      <th>high</th>\n",
       "      <th>low</th>\n",
       "      <th>close</th>\n",
       "      <th>range</th>\n",
       "    </tr>\n",
       "  </thead>\n",
       "  <tbody>\n",
       "    <tr>\n",
       "      <th>236193</th>\n",
       "      <td>BANKNIFTY</td>\n",
       "      <td>20150128</td>\n",
       "      <td>12:35</td>\n",
       "      <td>20902.15</td>\n",
       "      <td>20907.55</td>\n",
       "      <td>20894.35</td>\n",
       "      <td>20907.55</td>\n",
       "      <td>13.2</td>\n",
       "    </tr>\n",
       "  </tbody>\n",
       "</table>\n",
       "</div>"
      ],
      "text/plain": [
       "            index      date   time      open      high       low     close  \\\n",
       "236193  BANKNIFTY  20150128  12:35  20902.15  20907.55  20894.35  20907.55   \n",
       "\n",
       "        range  \n",
       "236193   13.2  "
      ]
     },
     "execution_count": 60,
     "metadata": {},
     "output_type": "execute_result"
    }
   ],
   "source": [
    "banknifty_dir.sort_values('high', ascending = False).head(1)"
   ]
  },
  {
   "cell_type": "markdown",
   "metadata": {},
   "source": [
    "##### Highest high for Nifty50 "
   ]
  },
  {
   "cell_type": "code",
   "execution_count": 61,
   "metadata": {},
   "outputs": [
    {
     "data": {
      "text/html": [
       "<div>\n",
       "<style scoped>\n",
       "    .dataframe tbody tr th:only-of-type {\n",
       "        vertical-align: middle;\n",
       "    }\n",
       "\n",
       "    .dataframe tbody tr th {\n",
       "        vertical-align: top;\n",
       "    }\n",
       "\n",
       "    .dataframe thead th {\n",
       "        text-align: right;\n",
       "    }\n",
       "</style>\n",
       "<table border=\"1\" class=\"dataframe\">\n",
       "  <thead>\n",
       "    <tr style=\"text-align: right;\">\n",
       "      <th></th>\n",
       "      <th>index</th>\n",
       "      <th>date</th>\n",
       "      <th>time</th>\n",
       "      <th>open</th>\n",
       "      <th>high</th>\n",
       "      <th>low</th>\n",
       "      <th>close</th>\n",
       "      <th>range</th>\n",
       "    </tr>\n",
       "  </thead>\n",
       "  <tbody>\n",
       "    <tr>\n",
       "      <th>240137</th>\n",
       "      <td>NIFTY</td>\n",
       "      <td>20150304</td>\n",
       "      <td>09:16</td>\n",
       "      <td>9115.4</td>\n",
       "      <td>9119.2</td>\n",
       "      <td>9105.65</td>\n",
       "      <td>9106.5</td>\n",
       "      <td>13.55</td>\n",
       "    </tr>\n",
       "  </tbody>\n",
       "</table>\n",
       "</div>"
      ],
      "text/plain": [
       "        index      date   time    open    high      low   close  range\n",
       "240137  NIFTY  20150304  09:16  9115.4  9119.2  9105.65  9106.5  13.55"
      ]
     },
     "execution_count": 61,
     "metadata": {},
     "output_type": "execute_result"
    }
   ],
   "source": [
    "nifty50_dir.sort_values('high', ascending = False).head(1)"
   ]
  },
  {
   "cell_type": "markdown",
   "metadata": {},
   "source": [
    "##### Lowest low for BankNifty"
   ]
  },
  {
   "cell_type": "code",
   "execution_count": 63,
   "metadata": {},
   "outputs": [],
   "source": [
    "lownifty = banknifty_dir.sort_values('low', ascending = False).tail(1)"
   ]
  },
  {
   "cell_type": "code",
   "execution_count": 64,
   "metadata": {},
   "outputs": [
    {
     "data": {
      "text/html": [
       "<div>\n",
       "<style scoped>\n",
       "    .dataframe tbody tr th:only-of-type {\n",
       "        vertical-align: middle;\n",
       "    }\n",
       "\n",
       "    .dataframe tbody tr th {\n",
       "        vertical-align: top;\n",
       "    }\n",
       "\n",
       "    .dataframe thead th {\n",
       "        text-align: right;\n",
       "    }\n",
       "</style>\n",
       "<table border=\"1\" class=\"dataframe\">\n",
       "  <thead>\n",
       "    <tr style=\"text-align: right;\">\n",
       "      <th></th>\n",
       "      <th>index</th>\n",
       "      <th>date</th>\n",
       "      <th>time</th>\n",
       "      <th>open</th>\n",
       "      <th>high</th>\n",
       "      <th>low</th>\n",
       "      <th>close</th>\n",
       "      <th>range</th>\n",
       "    </tr>\n",
       "  </thead>\n",
       "  <tbody>\n",
       "    <tr>\n",
       "      <th>252479</th>\n",
       "      <td>BANKNIFTY</td>\n",
       "      <td>20150624</td>\n",
       "      <td>15:19</td>\n",
       "      <td>1405.05</td>\n",
       "      <td>1407.05</td>\n",
       "      <td>1404.6</td>\n",
       "      <td>1406.25</td>\n",
       "      <td>2.45</td>\n",
       "    </tr>\n",
       "  </tbody>\n",
       "</table>\n",
       "</div>"
      ],
      "text/plain": [
       "            index      date   time     open     high     low    close  range\n",
       "252479  BANKNIFTY  20150624  15:19  1405.05  1407.05  1404.6  1406.25   2.45"
      ]
     },
     "execution_count": 64,
     "metadata": {},
     "output_type": "execute_result"
    }
   ],
   "source": [
    "lownifty"
   ]
  },
  {
   "cell_type": "markdown",
   "metadata": {},
   "source": [
    "##### Lowest low for Nifty50"
   ]
  },
  {
   "cell_type": "code",
   "execution_count": 65,
   "metadata": {},
   "outputs": [
    {
     "data": {
      "text/html": [
       "<div>\n",
       "<style scoped>\n",
       "    .dataframe tbody tr th:only-of-type {\n",
       "        vertical-align: middle;\n",
       "    }\n",
       "\n",
       "    .dataframe tbody tr th {\n",
       "        vertical-align: top;\n",
       "    }\n",
       "\n",
       "    .dataframe thead th {\n",
       "        text-align: right;\n",
       "    }\n",
       "</style>\n",
       "<table border=\"1\" class=\"dataframe\">\n",
       "  <thead>\n",
       "    <tr style=\"text-align: right;\">\n",
       "      <th></th>\n",
       "      <th>index</th>\n",
       "      <th>date</th>\n",
       "      <th>time</th>\n",
       "      <th>open</th>\n",
       "      <th>high</th>\n",
       "      <th>low</th>\n",
       "      <th>close</th>\n",
       "      <th>range</th>\n",
       "    </tr>\n",
       "  </thead>\n",
       "  <tbody>\n",
       "    <tr>\n",
       "      <th>13932</th>\n",
       "      <td>NIFTY</td>\n",
       "      <td>20130828</td>\n",
       "      <td>10:23</td>\n",
       "      <td>5126.35</td>\n",
       "      <td>5130.55</td>\n",
       "      <td>5118.85</td>\n",
       "      <td>5130.3</td>\n",
       "      <td>11.7</td>\n",
       "    </tr>\n",
       "  </tbody>\n",
       "</table>\n",
       "</div>"
      ],
      "text/plain": [
       "       index      date   time     open     high      low   close  range\n",
       "13932  NIFTY  20130828  10:23  5126.35  5130.55  5118.85  5130.3   11.7"
      ]
     },
     "execution_count": 65,
     "metadata": {},
     "output_type": "execute_result"
    }
   ],
   "source": [
    "nifty50_dir.sort_values('low', ascending = False).tail(1)"
   ]
  },
  {
   "cell_type": "markdown",
   "metadata": {},
   "source": [
    "#### Q: At what times did the stocks witnessed highest fluctuations?"
   ]
  },
  {
   "cell_type": "code",
   "execution_count": 66,
   "metadata": {},
   "outputs": [
    {
     "data": {
      "text/html": [
       "<div>\n",
       "<style scoped>\n",
       "    .dataframe tbody tr th:only-of-type {\n",
       "        vertical-align: middle;\n",
       "    }\n",
       "\n",
       "    .dataframe tbody tr th {\n",
       "        vertical-align: top;\n",
       "    }\n",
       "\n",
       "    .dataframe thead th {\n",
       "        text-align: right;\n",
       "    }\n",
       "</style>\n",
       "<table border=\"1\" class=\"dataframe\">\n",
       "  <thead>\n",
       "    <tr style=\"text-align: right;\">\n",
       "      <th></th>\n",
       "      <th>index</th>\n",
       "      <th>date</th>\n",
       "      <th>time</th>\n",
       "      <th>open</th>\n",
       "      <th>high</th>\n",
       "      <th>low</th>\n",
       "      <th>close</th>\n",
       "      <th>range</th>\n",
       "    </tr>\n",
       "  </thead>\n",
       "  <tbody>\n",
       "    <tr>\n",
       "      <th>158346</th>\n",
       "      <td>NIFTY</td>\n",
       "      <td>20140516</td>\n",
       "      <td>09:16</td>\n",
       "      <td>7273.55</td>\n",
       "      <td>7433.20</td>\n",
       "      <td>7264.40</td>\n",
       "      <td>7417.65</td>\n",
       "      <td>168.80</td>\n",
       "    </tr>\n",
       "    <tr>\n",
       "      <th>304170</th>\n",
       "      <td>NIFTY</td>\n",
       "      <td>20160120</td>\n",
       "      <td>09:16</td>\n",
       "      <td>7357.05</td>\n",
       "      <td>7470.90</td>\n",
       "      <td>7328.25</td>\n",
       "      <td>7329.30</td>\n",
       "      <td>142.65</td>\n",
       "    </tr>\n",
       "    <tr>\n",
       "      <th>162096</th>\n",
       "      <td>NIFTY</td>\n",
       "      <td>20140530</td>\n",
       "      <td>09:16</td>\n",
       "      <td>7256.00</td>\n",
       "      <td>7258.15</td>\n",
       "      <td>7118.45</td>\n",
       "      <td>7254.55</td>\n",
       "      <td>139.70</td>\n",
       "    </tr>\n",
       "    <tr>\n",
       "      <th>275867</th>\n",
       "      <td>NIFTY</td>\n",
       "      <td>20150929</td>\n",
       "      <td>11:01</td>\n",
       "      <td>7703.15</td>\n",
       "      <td>7800.20</td>\n",
       "      <td>7703.05</td>\n",
       "      <td>7798.55</td>\n",
       "      <td>97.15</td>\n",
       "    </tr>\n",
       "    <tr>\n",
       "      <th>159097</th>\n",
       "      <td>NIFTY</td>\n",
       "      <td>20140520</td>\n",
       "      <td>09:17</td>\n",
       "      <td>7288.75</td>\n",
       "      <td>7353.65</td>\n",
       "      <td>7281.45</td>\n",
       "      <td>7288.75</td>\n",
       "      <td>72.20</td>\n",
       "    </tr>\n",
       "  </tbody>\n",
       "</table>\n",
       "</div>"
      ],
      "text/plain": [
       "        index      date   time     open     high      low    close   range\n",
       "158346  NIFTY  20140516  09:16  7273.55  7433.20  7264.40  7417.65  168.80\n",
       "304170  NIFTY  20160120  09:16  7357.05  7470.90  7328.25  7329.30  142.65\n",
       "162096  NIFTY  20140530  09:16  7256.00  7258.15  7118.45  7254.55  139.70\n",
       "275867  NIFTY  20150929  11:01  7703.15  7800.20  7703.05  7798.55   97.15\n",
       "159097  NIFTY  20140520  09:17  7288.75  7353.65  7281.45  7288.75   72.20"
      ]
     },
     "execution_count": 66,
     "metadata": {},
     "output_type": "execute_result"
    }
   ],
   "source": [
    "nifty50_dir.sort_values('range' ,ascending = False).head(5)"
   ]
  },
  {
   "cell_type": "markdown",
   "metadata": {},
   "source": [
    "#### As the output indicates, the highest fluctuation or the difference between highs and lows was seen to be 168.80 in case of Nifty 50"
   ]
  },
  {
   "cell_type": "markdown",
   "metadata": {},
   "source": [
    "#### Q: At what times did BankNifty witness highest fluctuations?"
   ]
  },
  {
   "cell_type": "code",
   "execution_count": 67,
   "metadata": {},
   "outputs": [
    {
     "data": {
      "text/html": [
       "<div>\n",
       "<style scoped>\n",
       "    .dataframe tbody tr th:only-of-type {\n",
       "        vertical-align: middle;\n",
       "    }\n",
       "\n",
       "    .dataframe tbody tr th {\n",
       "        vertical-align: top;\n",
       "    }\n",
       "\n",
       "    .dataframe thead th {\n",
       "        text-align: right;\n",
       "    }\n",
       "</style>\n",
       "<table border=\"1\" class=\"dataframe\">\n",
       "  <thead>\n",
       "    <tr style=\"text-align: right;\">\n",
       "      <th></th>\n",
       "      <th>index</th>\n",
       "      <th>date</th>\n",
       "      <th>time</th>\n",
       "      <th>open</th>\n",
       "      <th>high</th>\n",
       "      <th>low</th>\n",
       "      <th>close</th>\n",
       "      <th>range</th>\n",
       "    </tr>\n",
       "  </thead>\n",
       "  <tbody>\n",
       "    <tr>\n",
       "      <th>318825</th>\n",
       "      <td>BANKNIFTY</td>\n",
       "      <td>20160120</td>\n",
       "      <td>09:16</td>\n",
       "      <td>15049.35</td>\n",
       "      <td>15533.45</td>\n",
       "      <td>14978.10</td>\n",
       "      <td>14980.90</td>\n",
       "      <td>555.35</td>\n",
       "    </tr>\n",
       "    <tr>\n",
       "      <th>172969</th>\n",
       "      <td>BANKNIFTY</td>\n",
       "      <td>20140516</td>\n",
       "      <td>09:16</td>\n",
       "      <td>14662.20</td>\n",
       "      <td>15115.00</td>\n",
       "      <td>14662.20</td>\n",
       "      <td>15111.75</td>\n",
       "      <td>452.80</td>\n",
       "    </tr>\n",
       "    <tr>\n",
       "      <th>290431</th>\n",
       "      <td>BANKNIFTY</td>\n",
       "      <td>20150929</td>\n",
       "      <td>11:01</td>\n",
       "      <td>16707.45</td>\n",
       "      <td>17104.40</td>\n",
       "      <td>16706.45</td>\n",
       "      <td>17097.90</td>\n",
       "      <td>397.95</td>\n",
       "    </tr>\n",
       "    <tr>\n",
       "      <th>173240</th>\n",
       "      <td>BANKNIFTY</td>\n",
       "      <td>20140516</td>\n",
       "      <td>13:47</td>\n",
       "      <td>14498.50</td>\n",
       "      <td>14758.65</td>\n",
       "      <td>14468.10</td>\n",
       "      <td>14758.65</td>\n",
       "      <td>290.55</td>\n",
       "    </tr>\n",
       "    <tr>\n",
       "      <th>105107</th>\n",
       "      <td>BANKNIFTY</td>\n",
       "      <td>20130920</td>\n",
       "      <td>11:02</td>\n",
       "      <td>11132.80</td>\n",
       "      <td>11132.80</td>\n",
       "      <td>10850.40</td>\n",
       "      <td>10850.40</td>\n",
       "      <td>282.40</td>\n",
       "    </tr>\n",
       "  </tbody>\n",
       "</table>\n",
       "</div>"
      ],
      "text/plain": [
       "            index      date   time      open      high       low     close  \\\n",
       "318825  BANKNIFTY  20160120  09:16  15049.35  15533.45  14978.10  14980.90   \n",
       "172969  BANKNIFTY  20140516  09:16  14662.20  15115.00  14662.20  15111.75   \n",
       "290431  BANKNIFTY  20150929  11:01  16707.45  17104.40  16706.45  17097.90   \n",
       "173240  BANKNIFTY  20140516  13:47  14498.50  14758.65  14468.10  14758.65   \n",
       "105107  BANKNIFTY  20130920  11:02  11132.80  11132.80  10850.40  10850.40   \n",
       "\n",
       "         range  \n",
       "318825  555.35  \n",
       "172969  452.80  \n",
       "290431  397.95  \n",
       "173240  290.55  \n",
       "105107  282.40  "
      ]
     },
     "execution_count": 67,
     "metadata": {},
     "output_type": "execute_result"
    }
   ],
   "source": [
    "banknifty_dir.sort_values('range' ,ascending = False).head(5)"
   ]
  },
  {
   "cell_type": "markdown",
   "metadata": {},
   "source": [
    "#### Similarly for BankNifty the highest fluctuation was recorded to be 555.35"
   ]
  },
  {
   "cell_type": "markdown",
   "metadata": {},
   "source": [
    "## The fact that market is highly volatile as soon as it opens the reason being previous working day's off market orders executions is simply proved correct by this particular analysis  "
   ]
  },
  {
   "cell_type": "code",
   "execution_count": 68,
   "metadata": {},
   "outputs": [],
   "source": [
    "import jovian"
   ]
  },
  {
   "cell_type": "code",
   "execution_count": 69,
   "metadata": {},
   "outputs": [
    {
     "data": {
      "application/javascript": [
       "window.require && require([\"base/js/namespace\"],function(Jupyter){Jupyter.notebook.save_checkpoint()})"
      ],
      "text/plain": [
       "<IPython.core.display.Javascript object>"
      ]
     },
     "metadata": {},
     "output_type": "display_data"
    },
    {
     "name": "stdout",
     "output_type": "stream",
     "text": [
      "[jovian] Updating notebook \"f20201673/analysing-stocks-in-nse-stock-exchange\" on https://jovian.ai\u001b[0m\n",
      "[jovian] Committed successfully! https://jovian.ai/f20201673/analysing-stocks-in-nse-stock-exchange\u001b[0m\n"
     ]
    },
    {
     "data": {
      "text/plain": [
       "'https://jovian.ai/f20201673/analysing-stocks-in-nse-stock-exchange'"
      ]
     },
     "execution_count": 69,
     "metadata": {},
     "output_type": "execute_result"
    }
   ],
   "source": [
    "jovian.commit()"
   ]
  },
  {
   "cell_type": "markdown",
   "metadata": {},
   "source": [
    "## Inferences and Conclusion\n",
    "\n",
    "Various conclusions can be made about the overall market trend throughout the day. We recorded some key values like highest-high, lowest-low, range, etc. Also we plotted some graphs which gave us a brief overview of uptrend/downtrend during a particular time slot. We also saw the fluctuations i.e the difference between the highs and lows of these stocks. An attempt to perform some basic technical analysis was made."
   ]
  },
  {
   "cell_type": "code",
   "execution_count": 66,
   "metadata": {},
   "outputs": [],
   "source": [
    "import jovian"
   ]
  },
  {
   "cell_type": "code",
   "execution_count": 67,
   "metadata": {},
   "outputs": [
    {
     "data": {
      "application/javascript": [
       "window.require && require([\"base/js/namespace\"],function(Jupyter){Jupyter.notebook.save_checkpoint()})"
      ],
      "text/plain": [
       "<IPython.core.display.Javascript object>"
      ]
     },
     "metadata": {},
     "output_type": "display_data"
    },
    {
     "name": "stdout",
     "output_type": "stream",
     "text": [
      "[jovian] Updating notebook \"f20201673/analysing-stocks-in-nse-stock-exchange\" on https://jovian.ai\u001b[0m\n",
      "[jovian] Committed successfully! https://jovian.ai/f20201673/analysing-stocks-in-nse-stock-exchange\u001b[0m\n"
     ]
    },
    {
     "data": {
      "text/plain": [
       "'https://jovian.ai/f20201673/analysing-stocks-in-nse-stock-exchange'"
      ]
     },
     "execution_count": 67,
     "metadata": {},
     "output_type": "execute_result"
    }
   ],
   "source": [
    "jovian.commit()"
   ]
  },
  {
   "cell_type": "markdown",
   "metadata": {},
   "source": [
    "## References and Future Work\n",
    "\n"
   ]
  },
  {
   "cell_type": "markdown",
   "metadata": {},
   "source": [
    "The following are the links that I found helpful during the course of this data analysis using pandas project. \n",
    "\n",
    "- Stack Overflow Developer Survey: https://insights.stackoverflow.com/survey\n",
    "- Pandas user guide: https://pandas.pydata.org/docs/user_guide/index.html\n",
    "- Matplotlib user guide: https://matplotlib.org/3.3.1/users/index.html\n",
    "- Seaborn user guide & tutorial: https://seaborn.pydata.org/tutorial.html\n",
    "- 'opendatasets' Python library: https://github.com/JovianML/opendatasets\n",
    "- Technical analysis: https://www.moneycontrol.com/markets/technicals/?classic=true\n",
    "\n",
    " "
   ]
  },
  {
   "cell_type": "markdown",
   "metadata": {},
   "source": [
    "### This particular project was based on my very basic knowledge about pandas and various features it has. In the future I aim to make such interesting projects more and more in-depth and the ones involving critical analysis and usage of various amazing functions. I would like to give special thanks to Aakash sir for providing such an interesting course that too for free. Even if it was paid, it had been worth every penny! It has developed a significant amount of interest in python and pandas. Thank you!"
   ]
  },
  {
   "cell_type": "code",
   "execution_count": 72,
   "metadata": {},
   "outputs": [],
   "source": [
    "import jovian"
   ]
  },
  {
   "cell_type": "code",
   "execution_count": 73,
   "metadata": {
    "scrolled": true
   },
   "outputs": [
    {
     "data": {
      "application/javascript": [
       "window.require && require([\"base/js/namespace\"],function(Jupyter){Jupyter.notebook.save_checkpoint()})"
      ],
      "text/plain": [
       "<IPython.core.display.Javascript object>"
      ]
     },
     "metadata": {},
     "output_type": "display_data"
    },
    {
     "name": "stdout",
     "output_type": "stream",
     "text": [
      "[jovian] Updating notebook \"f20201673/analysing-stocks-in-nse-stock-exchange\" on https://jovian.ai\u001b[0m\n",
      "[jovian] Committed successfully! https://jovian.ai/f20201673/analysing-stocks-in-nse-stock-exchange\u001b[0m\n"
     ]
    },
    {
     "data": {
      "text/plain": [
       "'https://jovian.ai/f20201673/analysing-stocks-in-nse-stock-exchange'"
      ]
     },
     "execution_count": 73,
     "metadata": {},
     "output_type": "execute_result"
    }
   ],
   "source": [
    "jovian.commit()"
   ]
  }
 ],
 "metadata": {
  "language_info": {
   "codemirror_mode": {
    "name": "ipython",
    "version": 3
   },
   "file_extension": ".py",
   "mimetype": "text/x-python",
   "name": "python",
   "nbconvert_exporter": "python",
   "pygments_lexer": "ipython3",
   "version": "3.9.5"
  }
 },
 "nbformat": 4,
 "nbformat_minor": 4
}